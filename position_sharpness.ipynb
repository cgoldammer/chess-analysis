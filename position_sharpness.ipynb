{
 "cells": [
  {
   "cell_type": "markdown",
   "metadata": {},
   "source": [
    "# Overview\n",
    "Here, we predict whether a human is going to make a mistake in a given chess position. More precisely, we estimate both the expected centi-pawn loss and the expected blunder (CP loss > 200) probability given a player's Elo rating. We base this analysis on a dataset of 23,000 games that have been fully evaluated by a computer (1.9 Million evaluations).\n",
    "\n",
    "This model can be used in a variety of ways:\n",
    "  1. If we hold the Elo constant, these predictions are, intuitively, a good measure a position's sharpness, since players will be more likely to make mistakes in sharp positions. \n",
    "  2. We can understand how players of certain strength play in certain positions. For instance, some positions are handled almost perfectly by elite players, but beginners will likely blunder in them.\n",
    "  \n",
    "At a high level, our model supplements the computer evaluation of a position. A widely held belief among chess players is that a computer evaluation is less important when a position is sharp. To quantify this belief, we need a definition of sharpness, and our predictive score is tailored to this purpose.\n",
    "\n",
    "The predictions (CP loss or blunder probability) are obtained from a supervised model that simply predicts the same outcome in a large sample of games.\n",
    "\n",
    "**We have turned this model into an interactive [web app](https://chessinsights.org/analysis/)! So you can just go there and see what you think of the results**. You can also check out [the database](https://chessinsights.org) and even add your own games for evaluation!\n",
    "\n",
    "## Comparison to previous work\n",
    "\n",
    "Existing research (Guid and Bratko, 2006, G-B going forward) has defined sharpness using the change in evaluation as an engine's depth increases. This measure has the advantage that it is very easy to obtain when running computer evaluations. We find that our measure is only weakly correlated with the G-B measure.\n",
    "\n",
    "## Next steps\n",
    "\n",
    "These predictions can be used to create \"human evaluations\" of a given chess position. Specifically, one can ask the following: Given a certain chess position, what is the best move I should play to win the game? The best move (highest win probability) might not have the highest computer evaluation, and a crucial factor is that humans make mistakes when the position is sharp.\n",
    "\n",
    "## Notes on the model\n",
    "\n",
    "Currently, our model tries to minimize the required prior knowledge about chess. The input is simply a position's FEN, and this is split into a large vector and fed into a two-stage dense neural network."
   ]
  },
  {
   "cell_type": "markdown",
   "metadata": {},
   "source": [
    "# Validation overview: Candidates 2018\n",
    "Here, we present an overview of the validation and analyses with the data. You can also think of this as \"fun statistics we can create with our model\".\n",
    "\n",
    "We use games from the Candidates 2018 to evalute our results.  We can use this tournament to investigate whether our results are reasonable. First, we present how sharply each participant played.\n",
    "\n",
    "We find that Levon Aronian played the sharpest chess, and Wesley So played least sharply. The one surprising result is that one would expect Vladimir Kramnik to show up more highly in the list, because his play was widely deemed to be extremely dynamic."
   ]
  },
  {
   "cell_type": "code",
   "execution_count": 1,
   "metadata": {},
   "outputs": [
    {
     "ename": "NameError",
     "evalue": "name 'player_stats' is not defined",
     "output_type": "error",
     "traceback": [
      "\u001b[0;31m---------------------------------------------------------------------------\u001b[0m",
      "\u001b[0;31mNameError\u001b[0m                                 Traceback (most recent call last)",
      "\u001b[0;32m<ipython-input-1-2aeb2de9f968>\u001b[0m in \u001b[0;36m<module>\u001b[0;34m\u001b[0m\n\u001b[0;32m----> 1\u001b[0;31m \u001b[0mplayer_stats\u001b[0m\u001b[0;34m\u001b[0m\u001b[0m\n\u001b[0m",
      "\u001b[0;31mNameError\u001b[0m: name 'player_stats' is not defined"
     ]
    }
   ],
   "source": [
    "player_stats"
   ]
  },
  {
   "cell_type": "markdown",
   "metadata": {},
   "source": [
    "## Game Statistics\n",
    "We now investigate how sharply each game was played. Overall, these results feel sensible. A likely reason is that, by averaging predictions over a number of moves, this statistic eliminates noise in the prediction.\n",
    "\n",
    "The comparison between the \"sharpest\" and \"least sharp\" games is stark: The sharpest games consistently involve huge complexity and attacking chess. The least sharp games usually involve quick piece exchanges and simplification into a drawn endgame."
   ]
  },
  {
   "cell_type": "markdown",
   "metadata": {},
   "source": [
    "## Sharpest Games"
   ]
  },
  {
   "cell_type": "code",
   "execution_count": 2,
   "metadata": {},
   "outputs": [
    {
     "ename": "NameError",
     "evalue": "name 'game_stats' is not defined",
     "output_type": "error",
     "traceback": [
      "\u001b[0;31m---------------------------------------------------------------------------\u001b[0m",
      "\u001b[0;31mNameError\u001b[0m                                 Traceback (most recent call last)",
      "\u001b[0;32m<ipython-input-2-ae021b61143d>\u001b[0m in \u001b[0;36m<module>\u001b[0;34m\u001b[0m\n\u001b[0;32m----> 1\u001b[0;31m \u001b[0mgame_stats\u001b[0m\u001b[0;34m.\u001b[0m\u001b[0mhead\u001b[0m\u001b[0;34m(\u001b[0m\u001b[0;36m10\u001b[0m\u001b[0;34m)\u001b[0m\u001b[0;34m\u001b[0m\u001b[0m\n\u001b[0m",
      "\u001b[0;31mNameError\u001b[0m: name 'game_stats' is not defined"
     ]
    }
   ],
   "source": [
    "game_stats.head(10)"
   ]
  },
  {
   "cell_type": "markdown",
   "metadata": {},
   "source": [
    "## Least sharp games"
   ]
  },
  {
   "cell_type": "code",
   "execution_count": 3,
   "metadata": {},
   "outputs": [
    {
     "ename": "NameError",
     "evalue": "name 'game_stats' is not defined",
     "output_type": "error",
     "traceback": [
      "\u001b[0;31m---------------------------------------------------------------------------\u001b[0m",
      "\u001b[0;31mNameError\u001b[0m                                 Traceback (most recent call last)",
      "\u001b[0;32m<ipython-input-3-de2bd84abb47>\u001b[0m in \u001b[0;36m<module>\u001b[0;34m\u001b[0m\n\u001b[0;32m----> 1\u001b[0;31m \u001b[0mgame_stats\u001b[0m\u001b[0;34m.\u001b[0m\u001b[0mtail\u001b[0m\u001b[0;34m(\u001b[0m\u001b[0;36m10\u001b[0m\u001b[0;34m)\u001b[0m\u001b[0;34m\u001b[0m\u001b[0m\n\u001b[0m",
      "\u001b[0;31mNameError\u001b[0m: name 'game_stats' is not defined"
     ]
    }
   ],
   "source": [
    "game_stats.tail(10)"
   ]
  },
  {
   "cell_type": "markdown",
   "metadata": {},
   "source": [
    "## Example positions\n",
    "This is the most intuitive validation: We simply show positions that are deemed either sharp or non-sharp, and chess players can get a feeling for whether these predictions are sensible."
   ]
  },
  {
   "cell_type": "code",
   "execution_count": 4,
   "metadata": {},
   "outputs": [
    {
     "ename": "NameError",
     "evalue": "name 'df_cand' is not defined",
     "output_type": "error",
     "traceback": [
      "\u001b[0;31m---------------------------------------------------------------------------\u001b[0m",
      "\u001b[0;31mNameError\u001b[0m                                 Traceback (most recent call last)",
      "\u001b[0;32m<ipython-input-4-dc810ee8e4f9>\u001b[0m in \u001b[0;36m<module>\u001b[0;34m\u001b[0m\n\u001b[0;32m----> 1\u001b[0;31m \u001b[0mdf\u001b[0m \u001b[0;34m=\u001b[0m \u001b[0mdf_cand\u001b[0m\u001b[0;34m.\u001b[0m\u001b[0mquery\u001b[0m\u001b[0;34m(\u001b[0m\u001b[0;34m'10 <= move_number <= 30'\u001b[0m\u001b[0;34m)\u001b[0m\u001b[0;34m.\u001b[0m\u001b[0msort_values\u001b[0m\u001b[0;34m(\u001b[0m\u001b[0;34m'pred_sharpness'\u001b[0m\u001b[0;34m,\u001b[0m \u001b[0mascending\u001b[0m\u001b[0;34m=\u001b[0m\u001b[0;32mFalse\u001b[0m\u001b[0;34m)\u001b[0m\u001b[0;34m\u001b[0m\u001b[0m\n\u001b[0m",
      "\u001b[0;31mNameError\u001b[0m: name 'df_cand' is not defined"
     ]
    }
   ],
   "source": [
    "df = df_cand.query('10 <= move_number <= 30').sort_values('pred_sharpness', ascending=False)"
   ]
  },
  {
   "cell_type": "markdown",
   "metadata": {},
   "source": [
    "### Sharp"
   ]
  },
  {
   "cell_type": "code",
   "execution_count": 5,
   "metadata": {},
   "outputs": [
    {
     "ename": "NameError",
     "evalue": "name 'df' is not defined",
     "output_type": "error",
     "traceback": [
      "\u001b[0;31m---------------------------------------------------------------------------\u001b[0m",
      "\u001b[0;31mNameError\u001b[0m                                 Traceback (most recent call last)",
      "\u001b[0;32m<ipython-input-5-b15eed788f59>\u001b[0m in \u001b[0;36m<module>\u001b[0;34m\u001b[0m\n\u001b[0;32m----> 1\u001b[0;31m \u001b[0mdf_sharp\u001b[0m \u001b[0;34m=\u001b[0m \u001b[0mdf\u001b[0m\u001b[0;34m.\u001b[0m\u001b[0mhead\u001b[0m\u001b[0;34m(\u001b[0m\u001b[0;36m100\u001b[0m\u001b[0;34m)\u001b[0m\u001b[0;34m\u001b[0m\u001b[0m\n\u001b[0m\u001b[1;32m      2\u001b[0m \u001b[0mdf_sharp\u001b[0m\u001b[0;34m.\u001b[0m\u001b[0mpred_sharpness\u001b[0m\u001b[0;34m.\u001b[0m\u001b[0mmean\u001b[0m\u001b[0;34m(\u001b[0m\u001b[0;34m)\u001b[0m\u001b[0;34m\u001b[0m\u001b[0m\n",
      "\u001b[0;31mNameError\u001b[0m: name 'df' is not defined"
     ]
    }
   ],
   "source": [
    "df_sharp = df.head(100)\n",
    "df_sharp.pred_sharpness.mean()"
   ]
  },
  {
   "cell_type": "code",
   "execution_count": 6,
   "metadata": {},
   "outputs": [
    {
     "ename": "NameError",
     "evalue": "name 'fen_to_svg' is not defined",
     "output_type": "error",
     "traceback": [
      "\u001b[0;31m---------------------------------------------------------------------------\u001b[0m",
      "\u001b[0;31mNameError\u001b[0m                                 Traceback (most recent call last)",
      "\u001b[0;32m<ipython-input-6-aae15ec581d5>\u001b[0m in \u001b[0;36m<module>\u001b[0;34m\u001b[0m\n\u001b[0;32m----> 1\u001b[0;31m \u001b[0mfen_to_svg\u001b[0m\u001b[0;34m(\u001b[0m\u001b[0mdf_sharp\u001b[0m\u001b[0;34m.\u001b[0m\u001b[0mfen\u001b[0m\u001b[0;34m.\u001b[0m\u001b[0miloc\u001b[0m\u001b[0;34m[\u001b[0m\u001b[0;36m0\u001b[0m\u001b[0;34m]\u001b[0m\u001b[0;34m)\u001b[0m\u001b[0;34m\u001b[0m\u001b[0m\n\u001b[0m",
      "\u001b[0;31mNameError\u001b[0m: name 'fen_to_svg' is not defined"
     ]
    }
   ],
   "source": [
    "fen_to_svg(df_sharp.fen.iloc[0])"
   ]
  },
  {
   "cell_type": "code",
   "execution_count": 7,
   "metadata": {},
   "outputs": [
    {
     "ename": "NameError",
     "evalue": "name 'fen_to_svg' is not defined",
     "output_type": "error",
     "traceback": [
      "\u001b[0;31m---------------------------------------------------------------------------\u001b[0m",
      "\u001b[0;31mNameError\u001b[0m                                 Traceback (most recent call last)",
      "\u001b[0;32m<ipython-input-7-6420fb3d0bce>\u001b[0m in \u001b[0;36m<module>\u001b[0;34m\u001b[0m\n\u001b[0;32m----> 1\u001b[0;31m \u001b[0mfen_to_svg\u001b[0m\u001b[0;34m(\u001b[0m\u001b[0mdf_sharp\u001b[0m\u001b[0;34m.\u001b[0m\u001b[0mfen\u001b[0m\u001b[0;34m.\u001b[0m\u001b[0miloc\u001b[0m\u001b[0;34m[\u001b[0m\u001b[0;36m1\u001b[0m\u001b[0;34m]\u001b[0m\u001b[0;34m)\u001b[0m\u001b[0;34m\u001b[0m\u001b[0m\n\u001b[0m",
      "\u001b[0;31mNameError\u001b[0m: name 'fen_to_svg' is not defined"
     ]
    }
   ],
   "source": [
    "fen_to_svg(df_sharp.fen.iloc[1])"
   ]
  },
  {
   "cell_type": "code",
   "execution_count": 8,
   "metadata": {},
   "outputs": [
    {
     "ename": "NameError",
     "evalue": "name 'fen_to_svg' is not defined",
     "output_type": "error",
     "traceback": [
      "\u001b[0;31m---------------------------------------------------------------------------\u001b[0m",
      "\u001b[0;31mNameError\u001b[0m                                 Traceback (most recent call last)",
      "\u001b[0;32m<ipython-input-8-41ec82b5011c>\u001b[0m in \u001b[0;36m<module>\u001b[0;34m\u001b[0m\n\u001b[0;32m----> 1\u001b[0;31m \u001b[0mfen_to_svg\u001b[0m\u001b[0;34m(\u001b[0m\u001b[0mdf_sharp\u001b[0m\u001b[0;34m.\u001b[0m\u001b[0mfen\u001b[0m\u001b[0;34m.\u001b[0m\u001b[0miloc\u001b[0m\u001b[0;34m[\u001b[0m\u001b[0;36m2\u001b[0m\u001b[0;34m]\u001b[0m\u001b[0;34m)\u001b[0m\u001b[0;34m\u001b[0m\u001b[0m\n\u001b[0m",
      "\u001b[0;31mNameError\u001b[0m: name 'fen_to_svg' is not defined"
     ]
    }
   ],
   "source": [
    "fen_to_svg(df_sharp.fen.iloc[2])"
   ]
  },
  {
   "cell_type": "markdown",
   "metadata": {},
   "source": [
    "### Not sharp"
   ]
  },
  {
   "cell_type": "code",
   "execution_count": 9,
   "metadata": {},
   "outputs": [
    {
     "ename": "NameError",
     "evalue": "name 'df' is not defined",
     "output_type": "error",
     "traceback": [
      "\u001b[0;31m---------------------------------------------------------------------------\u001b[0m",
      "\u001b[0;31mNameError\u001b[0m                                 Traceback (most recent call last)",
      "\u001b[0;32m<ipython-input-9-b0f3710ec8dd>\u001b[0m in \u001b[0;36m<module>\u001b[0;34m\u001b[0m\n\u001b[0;32m----> 1\u001b[0;31m \u001b[0mdf_nonsharp\u001b[0m \u001b[0;34m=\u001b[0m \u001b[0mdf\u001b[0m\u001b[0;34m.\u001b[0m\u001b[0mtail\u001b[0m\u001b[0;34m(\u001b[0m\u001b[0;36m100\u001b[0m\u001b[0;34m)\u001b[0m\u001b[0;34m\u001b[0m\u001b[0m\n\u001b[0m\u001b[1;32m      2\u001b[0m \u001b[0mdf_nonsharp\u001b[0m\u001b[0;34m.\u001b[0m\u001b[0mpred_sharpness\u001b[0m\u001b[0;34m.\u001b[0m\u001b[0mmean\u001b[0m\u001b[0;34m(\u001b[0m\u001b[0;34m)\u001b[0m\u001b[0;34m\u001b[0m\u001b[0m\n",
      "\u001b[0;31mNameError\u001b[0m: name 'df' is not defined"
     ]
    }
   ],
   "source": [
    "df_nonsharp = df.tail(100)\n",
    "df_nonsharp.pred_sharpness.mean()"
   ]
  },
  {
   "cell_type": "code",
   "execution_count": 10,
   "metadata": {},
   "outputs": [
    {
     "ename": "NameError",
     "evalue": "name 'fen_to_svg' is not defined",
     "output_type": "error",
     "traceback": [
      "\u001b[0;31m---------------------------------------------------------------------------\u001b[0m",
      "\u001b[0;31mNameError\u001b[0m                                 Traceback (most recent call last)",
      "\u001b[0;32m<ipython-input-10-8f70becbf218>\u001b[0m in \u001b[0;36m<module>\u001b[0;34m\u001b[0m\n\u001b[0;32m----> 1\u001b[0;31m \u001b[0mfen_to_svg\u001b[0m\u001b[0;34m(\u001b[0m\u001b[0mdf_nonsharp\u001b[0m\u001b[0;34m.\u001b[0m\u001b[0mfen\u001b[0m\u001b[0;34m.\u001b[0m\u001b[0miloc\u001b[0m\u001b[0;34m[\u001b[0m\u001b[0;36m0\u001b[0m\u001b[0;34m]\u001b[0m\u001b[0;34m)\u001b[0m\u001b[0;34m\u001b[0m\u001b[0m\n\u001b[0m",
      "\u001b[0;31mNameError\u001b[0m: name 'fen_to_svg' is not defined"
     ]
    }
   ],
   "source": [
    "fen_to_svg(df_nonsharp.fen.iloc[0])"
   ]
  },
  {
   "cell_type": "code",
   "execution_count": 11,
   "metadata": {},
   "outputs": [
    {
     "ename": "NameError",
     "evalue": "name 'fen_to_svg' is not defined",
     "output_type": "error",
     "traceback": [
      "\u001b[0;31m---------------------------------------------------------------------------\u001b[0m",
      "\u001b[0;31mNameError\u001b[0m                                 Traceback (most recent call last)",
      "\u001b[0;32m<ipython-input-11-edbea0f4b68b>\u001b[0m in \u001b[0;36m<module>\u001b[0;34m\u001b[0m\n\u001b[0;32m----> 1\u001b[0;31m \u001b[0mfen_to_svg\u001b[0m\u001b[0;34m(\u001b[0m\u001b[0mdf_nonsharp\u001b[0m\u001b[0;34m.\u001b[0m\u001b[0mfen\u001b[0m\u001b[0;34m.\u001b[0m\u001b[0miloc\u001b[0m\u001b[0;34m[\u001b[0m\u001b[0;36m1\u001b[0m\u001b[0;34m]\u001b[0m\u001b[0;34m)\u001b[0m\u001b[0;34m\u001b[0m\u001b[0m\n\u001b[0m",
      "\u001b[0;31mNameError\u001b[0m: name 'fen_to_svg' is not defined"
     ]
    }
   ],
   "source": [
    "fen_to_svg(df_nonsharp.fen.iloc[1])"
   ]
  },
  {
   "cell_type": "code",
   "execution_count": 12,
   "metadata": {},
   "outputs": [
    {
     "ename": "NameError",
     "evalue": "name 'fen_to_svg' is not defined",
     "output_type": "error",
     "traceback": [
      "\u001b[0;31m---------------------------------------------------------------------------\u001b[0m",
      "\u001b[0;31mNameError\u001b[0m                                 Traceback (most recent call last)",
      "\u001b[0;32m<ipython-input-12-0cffe3dcb21c>\u001b[0m in \u001b[0;36m<module>\u001b[0;34m\u001b[0m\n\u001b[0;32m----> 1\u001b[0;31m \u001b[0mfen_to_svg\u001b[0m\u001b[0;34m(\u001b[0m\u001b[0mdf_nonsharp\u001b[0m\u001b[0;34m.\u001b[0m\u001b[0mfen\u001b[0m\u001b[0;34m.\u001b[0m\u001b[0miloc\u001b[0m\u001b[0;34m[\u001b[0m\u001b[0;36m2\u001b[0m\u001b[0;34m]\u001b[0m\u001b[0;34m)\u001b[0m\u001b[0;34m\u001b[0m\u001b[0m\n\u001b[0m",
      "\u001b[0;31mNameError\u001b[0m: name 'fen_to_svg' is not defined"
     ]
    }
   ],
   "source": [
    "fen_to_svg(df_nonsharp.fen.iloc[2])"
   ]
  },
  {
   "cell_type": "markdown",
   "metadata": {},
   "source": [
    "# Analysis"
   ]
  },
  {
   "cell_type": "code",
   "execution_count": 1,
   "metadata": {},
   "outputs": [],
   "source": [
    "# Ignoring warnings here.\n",
    "import warnings\n",
    "warnings.filterwarnings('ignore')"
   ]
  },
  {
   "cell_type": "code",
   "execution_count": 2,
   "metadata": {},
   "outputs": [],
   "source": [
    "import pandas as pd\n",
    "import numpy as np\n",
    "import datetime\n",
    "import psycopg2\n",
    "import pandas.io.sql as sqlio\n",
    "from sklearn.ensemble import RandomForestRegressor\n",
    "\n",
    "import statsmodels\n",
    "import statsmodels.formula.api as smf\n",
    "\n",
    "import chess\n",
    "import chess.svg\n",
    "from IPython.display import SVG\n",
    "\n",
    "from tensorflow import keras\n",
    "from tensorflow.keras import layers\n",
    "import tensorflow as tf\n",
    "from tensorflow.keras import regularizers\n",
    "import chess\n",
    "from sklearn.preprocessing import StandardScaler\n",
    "from tensorflow.keras.layers import LeakyReLU"
   ]
  },
  {
   "cell_type": "code",
   "execution_count": 3,
   "metadata": {},
   "outputs": [],
   "source": [
    "import queries\n",
    "import functions as f\n",
    "import imp\n",
    "imp.reload(queries); imp.reload(f);"
   ]
  },
  {
   "cell_type": "code",
   "execution_count": 5,
   "metadata": {},
   "outputs": [],
   "source": [
    "pd.set_option('precision', 2)\n",
    "pd.set_option('display.width', 200)\n",
    "pd.set_option('max_colwidth',90)\n",
    "\n",
    "use_dev = False\n",
    "connstring = f.CONNSTRING_DEV if use_dev else f.CONNSTRING_PROD\n",
    "\n",
    "conn = psycopg2.connect(connstring)\n",
    "params = {\n",
    "  'move_number_start': 20\n",
    ", 'move_number_end': 40\n",
    "}"
   ]
  },
  {
   "cell_type": "markdown",
   "metadata": {},
   "source": [
    "# Loading the raw data"
   ]
  },
  {
   "cell_type": "code",
   "execution_count": 6,
   "metadata": {},
   "outputs": [],
   "source": [
    "df_games = sqlio.read_sql_query(queries.q_games, conn).rename(columns={'id': 'game_id'})\n",
    "df_db = sqlio.read_sql_query(queries.q_db, conn).rename(columns={'id': 'database_id'})\n",
    "df_players = sqlio.read_sql_query(queries.q_players, conn).rename(columns={'id': 'player_id'})\n",
    "df_tournaments = sqlio.read_sql_query(queries.q_tournaments, conn).rename(columns={'id': 'tournament'})\n",
    "df_attributes = sqlio.read_sql_query(\"SELECT * from game_attribute\", conn)"
   ]
  },
  {
   "cell_type": "code",
   "execution_count": 7,
   "metadata": {},
   "outputs": [
    {
     "data": {
      "text/plain": [
       "2218574"
      ]
     },
     "execution_count": 7,
     "metadata": {},
     "output_type": "execute_result"
    }
   ],
   "source": [
    "df_eval_raw = sqlio.read_sql_query(\"SELECT * from move_eval\", conn)\n",
    "len(df_eval_raw)"
   ]
  },
  {
   "cell_type": "code",
   "execution_count": 138,
   "metadata": {},
   "outputs": [],
   "source": [
    "df = df_games.merge(df_attributes\n",
    "                    .query('attribute==\"BlackElo\"')[['game_id', 'value']]\n",
    "                   .rename(columns={'value': 'elo_black'}))\n",
    "df = df.merge(df_attributes\n",
    "                    .query('attribute==\"WhiteElo\"')[['game_id', 'value']]\n",
    "                    .rename(columns={'value': 'elo_white'}))\n",
    "df = df.merge(df_players[['player_id', 'last_name']].rename(\n",
    "    columns={'player_id': 'player_white_id', 'last_name': 'last_name_white'}), on='player_white_id')\n",
    "df = df.merge(df_players[['player_id', 'last_name']].rename(\n",
    "    columns={'player_id': 'player_black_id', 'last_name': 'last_name_black'}), on='player_black_id')\n",
    "df = df.merge(df_tournaments[['tournament', 'name']].rename(\n",
    "    columns={'name': 'tournament_name'}), on='tournament')\n",
    "df = df.merge(df_db[['database_id', 'name']].rename(\n",
    "    columns={'name': 'database_name'}), on='database_id')\n",
    "df = df[df.elo_white!=\"\"]\n",
    "df = df[df.elo_black!=\"\"]\n",
    "for var in ['elo_white', 'elo_black']:\n",
    "    df = df[pd.to_numeric(df[var], errors='coerce').notnull()].copy()\n",
    "    df[var] = df[var].astype(int)\n",
    "    "
   ]
  },
  {
   "cell_type": "code",
   "execution_count": 139,
   "metadata": {},
   "outputs": [],
   "source": [
    "cols_add = ['tournament', 'tournament_name', 'database_name', 'game_id', \n",
    "            'elo_white', 'elo_black', \n",
    "            'last_name_white', 'last_name_black',\n",
    "            'player_white_id', 'player_black_id']\n",
    "df_eval = df_eval_raw.merge(df[cols_add])"
   ]
  },
  {
   "cell_type": "code",
   "execution_count": 140,
   "metadata": {},
   "outputs": [
    {
     "data": {
      "text/plain": [
       "kingbase_random                       1198196\n",
       "Rejkjavik Open 2018                     74934\n",
       "Candidates 2011-2018                    19663\n",
       "World Championships 1886-2014           19280\n",
       "Wijk An Zee (Tata Steel) 2012-2018      16912\n",
       "Supertournaments 2017                   14358\n",
       "Name: database_name, dtype: int64"
      ]
     },
     "execution_count": 140,
     "metadata": {},
     "output_type": "execute_result"
    }
   ],
   "source": [
    "df_eval.database_name.value_counts()"
   ]
  },
  {
   "cell_type": "code",
   "execution_count": 141,
   "metadata": {},
   "outputs": [
    {
     "data": {
      "text/plain": [
       "{'Number of evaluations': 1343343,\n",
       " 'Number of games': 16238,\n",
       " 'Number of players': 7797}"
      ]
     },
     "execution_count": 141,
     "metadata": {},
     "output_type": "execute_result"
    }
   ],
   "source": [
    "summary = {\n",
    "    'Number of evaluations': len(df_eval),\n",
    "    'Number of games': df_eval.game_id.nunique(),\n",
    "    'Number of players': df_eval.player_white_id.nunique()\n",
    "}\n",
    "summary"
   ]
  },
  {
   "cell_type": "code",
   "execution_count": 142,
   "metadata": {},
   "outputs": [
    {
     "data": {
      "text/plain": [
       "132"
      ]
     },
     "execution_count": 142,
     "metadata": {},
     "output_type": "execute_result"
    }
   ],
   "source": [
    "tournament_cand = df_tournaments.query('name==\"FIDE Candidates 2018\"').tournament.iloc[0]\n",
    "tournament_cand"
   ]
  },
  {
   "cell_type": "code",
   "execution_count": 143,
   "metadata": {},
   "outputs": [],
   "source": [
    "tournaments_eval = [tournament_cand]"
   ]
  },
  {
   "cell_type": "markdown",
   "metadata": {},
   "source": [
    "# Cleaning the data"
   ]
  },
  {
   "cell_type": "code",
   "execution_count": 144,
   "metadata": {},
   "outputs": [],
   "source": [
    "MAX_CP_LOSS = 200\n",
    "\n",
    "cploss_raw = (-1 + 2 * df_eval.is_white) * (df_eval.eval_best - df_eval['eval'])\n",
    "\n",
    "df_eval['cploss'] = f.top_and_bottom(cploss_raw, 0, MAX_CP_LOSS)\n",
    "df_eval['is_blunder'] = 1 * cploss_raw >= 200\n",
    "df_eval['eval_lagged'] = df_eval.groupby('game_id').eval_best.shift(1)\n",
    "df_eval['avg_cp_loss'] = df_eval.groupby('game_id').cploss.transform(np.mean)\n",
    "df_eval = df_eval.query('is_white')\n",
    "\n",
    "df_eval['fen_simple'] = [s[1] for s in df_eval.fen.str.split(' ')]\n",
    "\n",
    "df_eval['is_excluded'] = df_eval.tournament.isin(tournaments_eval)"
   ]
  },
  {
   "cell_type": "code",
   "execution_count": 145,
   "metadata": {},
   "outputs": [
    {
     "data": {
      "text/plain": [
       "is_blunder     0.02\n",
       "cploss        20.97\n",
       "dtype: float64"
      ]
     },
     "execution_count": 145,
     "metadata": {},
     "output_type": "execute_result"
    }
   ],
   "source": [
    "df_eval[['is_blunder', 'cploss']].mean()"
   ]
  },
  {
   "cell_type": "code",
   "execution_count": 146,
   "metadata": {},
   "outputs": [],
   "source": [
    "def fen_clean(fen):\n",
    "    cleaned = fen\n",
    "    for number in range(1, 9):\n",
    "        cleaned = cleaned.replace(str(number), 'E' * number)\n",
    "    cleaned = cleaned.replace('/', '')\n",
    "    assert len(cleaned) == 64\n",
    "    return cleaned"
   ]
  },
  {
   "cell_type": "code",
   "execution_count": 147,
   "metadata": {},
   "outputs": [],
   "source": [
    "all_pieces = 'pPnNbBrRqQkK'\n",
    "def fen_to_pieces(fen):\n",
    "    pieces = fen_clean(fen)\n",
    "    return [piece == p for piece in pieces for p in all_pieces]"
   ]
  },
  {
   "cell_type": "code",
   "execution_count": 148,
   "metadata": {},
   "outputs": [],
   "source": [
    "castling_values = 'kKqQ'\n",
    "def castling_rights(rights):\n",
    "    return [v in rights for v in castling_values]"
   ]
  },
  {
   "cell_type": "code",
   "execution_count": 149,
   "metadata": {},
   "outputs": [],
   "source": [
    "def fen_covars(fen):\n",
    "    s = fen.split(' ')\n",
    "    s_pos = s[1]\n",
    "    s_castle = s[3]\n",
    "    covars_pos = fen_to_pieces(s_pos)\n",
    "    covars_castle = castling_rights(s_castle)\n",
    "    is_white = s[2] == 'w'\n",
    "    return covars_pos + covars_castle #+ [is_white]"
   ]
  },
  {
   "cell_type": "code",
   "execution_count": 150,
   "metadata": {},
   "outputs": [],
   "source": [
    "ELO_SCALE = 3000"
   ]
  },
  {
   "cell_type": "code",
   "execution_count": 151,
   "metadata": {},
   "outputs": [],
   "source": [
    "def fen_features(row):\n",
    "    #return [row.elo_white]\n",
    "    covars_fen = fen_covars(row.fen)\n",
    "    return covars_fen + [row.elo_white / ELO_SCALE]"
   ]
  },
  {
   "cell_type": "code",
   "execution_count": 152,
   "metadata": {},
   "outputs": [],
   "source": [
    "ix = df_eval.cploss.notnull()\n",
    "df_reg = df_eval[ix] #\n",
    "\n",
    "df_reg = df_reg.sample(len(df_reg)) #.sample(len(df_reg))\n",
    "df_reg = df_reg[df_reg.cploss.notnull()].copy()\n",
    "df_reg['val'] = (np.random.random(len(df_reg)) > 0.8) | (df_reg.is_excluded)\n",
    "\n",
    "df_train = df_reg.query('not val').copy()\n",
    "df_val = df_reg.query('val').copy()\n",
    "\n",
    "X_train = np.array([fen_features(row[1]) for row in df_train.iterrows()]).astype(float)\n",
    "X_val = np.array([fen_features(row[1]) for row in df_val.iterrows()]).astype(float)"
   ]
  },
  {
   "cell_type": "code",
   "execution_count": 153,
   "metadata": {},
   "outputs": [],
   "source": [
    "outcomes = ['cploss', 'is_blunder']\n",
    "stds = df_train[outcomes].std()\n",
    "Y_train = np.array(df_train[outcomes] / stds)\n",
    "Y_val = np.array(df_val[outcomes] / stds)\n",
    "n_covars = X_train.shape[1]"
   ]
  },
  {
   "cell_type": "code",
   "execution_count": 154,
   "metadata": {},
   "outputs": [
    {
     "data": {
      "text/plain": [
       "cploss        35.84\n",
       "is_blunder     0.12\n",
       "dtype: float64"
      ]
     },
     "execution_count": 154,
     "metadata": {},
     "output_type": "execute_result"
    }
   ],
   "source": [
    "stds"
   ]
  },
  {
   "cell_type": "code",
   "execution_count": 155,
   "metadata": {},
   "outputs": [
    {
     "data": {
      "text/plain": [
       "((538287, 773), (538287, 2), (136318, 2))"
      ]
     },
     "execution_count": 155,
     "metadata": {},
     "output_type": "execute_result"
    }
   ],
   "source": [
    "X_train.shape, Y_train.shape, Y_val.shape"
   ]
  },
  {
   "cell_type": "code",
   "execution_count": 156,
   "metadata": {},
   "outputs": [],
   "source": [
    "import itertools"
   ]
  },
  {
   "cell_type": "code",
   "execution_count": 157,
   "metadata": {},
   "outputs": [],
   "source": [
    "def dict_product(dicts):\n",
    "    return (dict(zip(dicts, x)) for x in itertools.product(*dicts.values()))"
   ]
  },
  {
   "cell_type": "code",
   "execution_count": 158,
   "metadata": {},
   "outputs": [],
   "source": [
    "def get_model(x_train, y_train, x_val, y_val, params):\n",
    "    model = keras.Sequential([\n",
    "        layers.Dense(params['num_activations'], activation='relu', input_shape=[n_covars]), \n",
    "        keras.layers.Dropout(params['dropout']),\n",
    "        layers.Dense(params['num_activations_2'], activation=params['activation']),\n",
    "        keras.layers.Dense(Y_train.shape[1])\n",
    "    ])\n",
    "    optimizer = tf.keras.optimizers.Adamax(lr=params['lr'], beta_1=0.9, beta_2=0.999)\n",
    "    model.compile(loss='mse', optimizer=optimizer, metrics=['mae', 'mse'])\n",
    "    model.build()\n",
    "    out = model.fit(x_train, y_train, epochs=params['epochs'], \n",
    "              batch_size=params['batch_size'], \n",
    "              validation_data=(x_val, y_val))\n",
    "    return out, model"
   ]
  },
  {
   "cell_type": "code",
   "execution_count": 181,
   "metadata": {},
   "outputs": [],
   "source": [
    "p = {\n",
    "    'activation': ['relu'],\n",
    "    'num_activations': [20, 50, 100, 200],\n",
    "    'num_activations_2': [5, 20],\n",
    "    'dropout': [0.2, 0.5],\n",
    "    'batch_size': [100, 1000],\n",
    "    'epochs': [10, 50],\n",
    "    'lr': [0.1, 0.001]\n",
    "}\n",
    "ps = list(dict_product(p))"
   ]
  },
  {
   "cell_type": "code",
   "execution_count": 182,
   "metadata": {},
   "outputs": [
    {
     "data": {
      "text/plain": [
       "10"
      ]
     },
     "execution_count": 182,
     "metadata": {},
     "output_type": "execute_result"
    }
   ],
   "source": [
    "NUM_MODELS = 10\n",
    "\n",
    "ps = list(np.random.choice(ps, size=NUM_MODELS, replace=False))\n",
    "len(ps)"
   ]
  },
  {
   "cell_type": "code",
   "execution_count": null,
   "metadata": {},
   "outputs": [],
   "source": [
    "for p in ps:\n",
    "    out, model = get_model(X_train, Y_train, X_val, Y_val, p)\n",
    "    p['val_loss'] = out.history['val_loss'][0] * 100\n",
    "    p['loss'] = out.history['loss'][0] * 100"
   ]
  },
  {
   "cell_type": "code",
   "execution_count": 184,
   "metadata": {},
   "outputs": [
    {
     "data": {
      "text/plain": [
       "5"
      ]
     },
     "execution_count": 184,
     "metadata": {},
     "output_type": "execute_result"
    }
   ],
   "source": [
    "num_estimated = len([p.get('val_loss', None) for p in ps if p.get('val_loss', None) is not None])\n",
    "num_estimated"
   ]
  },
  {
   "cell_type": "code",
   "execution_count": 185,
   "metadata": {},
   "outputs": [
    {
     "data": {
      "text/html": [
       "<div>\n",
       "<style scoped>\n",
       "    .dataframe tbody tr th:only-of-type {\n",
       "        vertical-align: middle;\n",
       "    }\n",
       "\n",
       "    .dataframe tbody tr th {\n",
       "        vertical-align: top;\n",
       "    }\n",
       "\n",
       "    .dataframe thead th {\n",
       "        text-align: right;\n",
       "    }\n",
       "</style>\n",
       "<table border=\"1\" class=\"dataframe\">\n",
       "  <thead>\n",
       "    <tr style=\"text-align: right;\">\n",
       "      <th></th>\n",
       "      <th>activation</th>\n",
       "      <th>num_activations</th>\n",
       "      <th>num_activations_2</th>\n",
       "      <th>dropout</th>\n",
       "      <th>batch_size</th>\n",
       "      <th>epochs</th>\n",
       "      <th>lr</th>\n",
       "      <th>val_loss</th>\n",
       "      <th>loss</th>\n",
       "    </tr>\n",
       "  </thead>\n",
       "  <tbody>\n",
       "    <tr>\n",
       "      <th>4</th>\n",
       "      <td>relu</td>\n",
       "      <td>100</td>\n",
       "      <td>20</td>\n",
       "      <td>0.2</td>\n",
       "      <td>100</td>\n",
       "      <td>50</td>\n",
       "      <td>1.00e-01</td>\n",
       "      <td>93.41</td>\n",
       "      <td>109.31</td>\n",
       "    </tr>\n",
       "    <tr>\n",
       "      <th>3</th>\n",
       "      <td>relu</td>\n",
       "      <td>20</td>\n",
       "      <td>20</td>\n",
       "      <td>0.2</td>\n",
       "      <td>100</td>\n",
       "      <td>50</td>\n",
       "      <td>1.00e-03</td>\n",
       "      <td>93.68</td>\n",
       "      <td>98.25</td>\n",
       "    </tr>\n",
       "    <tr>\n",
       "      <th>1</th>\n",
       "      <td>relu</td>\n",
       "      <td>100</td>\n",
       "      <td>20</td>\n",
       "      <td>0.5</td>\n",
       "      <td>1000</td>\n",
       "      <td>10</td>\n",
       "      <td>1.00e-03</td>\n",
       "      <td>93.92</td>\n",
       "      <td>100.18</td>\n",
       "    </tr>\n",
       "    <tr>\n",
       "      <th>2</th>\n",
       "      <td>relu</td>\n",
       "      <td>50</td>\n",
       "      <td>5</td>\n",
       "      <td>0.5</td>\n",
       "      <td>100</td>\n",
       "      <td>50</td>\n",
       "      <td>1.00e-01</td>\n",
       "      <td>96.95</td>\n",
       "      <td>100.24</td>\n",
       "    </tr>\n",
       "    <tr>\n",
       "      <th>0</th>\n",
       "      <td>relu</td>\n",
       "      <td>200</td>\n",
       "      <td>5</td>\n",
       "      <td>0.5</td>\n",
       "      <td>100</td>\n",
       "      <td>10</td>\n",
       "      <td>1.00e-01</td>\n",
       "      <td>97.11</td>\n",
       "      <td>108.18</td>\n",
       "    </tr>\n",
       "  </tbody>\n",
       "</table>\n",
       "</div>"
      ],
      "text/plain": [
       "  activation  num_activations  num_activations_2  dropout  batch_size  epochs        lr  val_loss    loss\n",
       "4       relu              100                 20      0.2         100      50  1.00e-01     93.41  109.31\n",
       "3       relu               20                 20      0.2         100      50  1.00e-03     93.68   98.25\n",
       "1       relu              100                 20      0.5        1000      10  1.00e-03     93.92  100.18\n",
       "2       relu               50                  5      0.5         100      50  1.00e-01     96.95  100.24\n",
       "0       relu              200                  5      0.5         100      10  1.00e-01     97.11  108.18"
      ]
     },
     "execution_count": 185,
     "metadata": {},
     "output_type": "execute_result"
    }
   ],
   "source": [
    "df = pd.DataFrame(ps)\n",
    "df = df[df.val_loss.notnull()].sort_values('val_loss')\n",
    "df.head(20)"
   ]
  },
  {
   "cell_type": "code",
   "execution_count": 159,
   "metadata": {},
   "outputs": [],
   "source": [
    "optimizer = tf.keras.optimizers.Adamax(lr=0.03, beta_1=0.9, beta_2=0.999, epsilon=None, decay=0.0)\n",
    "model.compile(loss='mse', optimizer=optimizer, metrics=['mae', 'mse'])\n",
    "model.build()"
   ]
  },
  {
   "cell_type": "code",
   "execution_count": 160,
   "metadata": {},
   "outputs": [
    {
     "name": "stdout",
     "output_type": "stream",
     "text": [
      "Epoch 1/50\n",
      "539/539 [==============================] - 4s 6ms/step - loss: 0.9690 - mae: 0.4364 - mse: 0.9690 - val_loss: 0.9215 - val_mae: 0.4210 - val_mse: 0.9215\n",
      "Epoch 2/50\n",
      "539/539 [==============================] - 3s 5ms/step - loss: 0.9409 - mae: 0.4343 - mse: 0.9409 - val_loss: 0.9150 - val_mae: 0.4049 - val_mse: 0.9150\n",
      "Epoch 3/50\n",
      "539/539 [==============================] - 3s 5ms/step - loss: 0.9011 - mae: 0.4257 - mse: 0.9011 - val_loss: 0.9086 - val_mae: 0.4099 - val_mse: 0.9086\n",
      "Epoch 4/50\n",
      "539/539 [==============================] - 3s 5ms/step - loss: 0.8917 - mae: 0.4231 - mse: 0.8917 - val_loss: 0.9088 - val_mae: 0.4096 - val_mse: 0.9088\n",
      "Epoch 5/50\n",
      "539/539 [==============================] - 3s 6ms/step - loss: 0.8640 - mae: 0.4171 - mse: 0.8640 - val_loss: 0.9117 - val_mae: 0.3984 - val_mse: 0.9117\n",
      "Epoch 6/50\n",
      "539/539 [==============================] - 3s 5ms/step - loss: 0.8640 - mae: 0.4162 - mse: 0.8640 - val_loss: 0.9050 - val_mae: 0.4176 - val_mse: 0.9050\n",
      "Epoch 7/50\n",
      "539/539 [==============================] - 3s 5ms/step - loss: 0.8328 - mae: 0.4100 - mse: 0.8328 - val_loss: 0.9040 - val_mae: 0.4047 - val_mse: 0.9040\n",
      "Epoch 8/50\n",
      "539/539 [==============================] - 3s 5ms/step - loss: 0.8085 - mae: 0.4007 - mse: 0.8085 - val_loss: 0.9050 - val_mae: 0.4066 - val_mse: 0.9050\n",
      "Epoch 9/50\n",
      "539/539 [==============================] - 3s 5ms/step - loss: 0.7973 - mae: 0.3992 - mse: 0.7973 - val_loss: 0.9052 - val_mae: 0.4008 - val_mse: 0.9052\n",
      "Epoch 10/50\n",
      "539/539 [==============================] - 3s 6ms/step - loss: 0.7981 - mae: 0.3982 - mse: 0.7981 - val_loss: 0.9057 - val_mae: 0.3959 - val_mse: 0.9057\n",
      "Epoch 11/50\n",
      "539/539 [==============================] - 3s 5ms/step - loss: 0.7784 - mae: 0.3945 - mse: 0.7784 - val_loss: 0.9040 - val_mae: 0.3974 - val_mse: 0.9040\n",
      "Epoch 12/50\n",
      "539/539 [==============================] - 3s 5ms/step - loss: 0.7764 - mae: 0.3928 - mse: 0.7764 - val_loss: 0.9053 - val_mae: 0.4024 - val_mse: 0.9053\n",
      "Epoch 13/50\n",
      "539/539 [==============================] - 3s 5ms/step - loss: 0.7543 - mae: 0.3860 - mse: 0.7543 - val_loss: 0.9054 - val_mae: 0.4156 - val_mse: 0.9054\n",
      "Epoch 14/50\n",
      "539/539 [==============================] - 3s 5ms/step - loss: 0.7398 - mae: 0.3829 - mse: 0.7398 - val_loss: 0.9127 - val_mae: 0.3907 - val_mse: 0.9127\n",
      "Epoch 15/50\n",
      "539/539 [==============================] - 3s 5ms/step - loss: 0.7476 - mae: 0.3841 - mse: 0.7476 - val_loss: 0.9110 - val_mae: 0.3868 - val_mse: 0.9110\n",
      "Epoch 16/50\n",
      "539/539 [==============================] - 3s 6ms/step - loss: 0.7301 - mae: 0.3792 - mse: 0.7301 - val_loss: 0.9127 - val_mae: 0.3821 - val_mse: 0.9127\n",
      "Epoch 17/50\n",
      "539/539 [==============================] - 3s 5ms/step - loss: 0.7205 - mae: 0.3760 - mse: 0.7205 - val_loss: 0.9148 - val_mae: 0.3903 - val_mse: 0.9148\n",
      "Epoch 18/50\n",
      "539/539 [==============================] - 3s 5ms/step - loss: 0.7210 - mae: 0.3769 - mse: 0.7210 - val_loss: 0.9119 - val_mae: 0.4057 - val_mse: 0.9119\n",
      "Epoch 19/50\n",
      "539/539 [==============================] - 3s 6ms/step - loss: 0.7126 - mae: 0.3733 - mse: 0.7126 - val_loss: 0.9174 - val_mae: 0.3877 - val_mse: 0.9174\n",
      "Epoch 20/50\n",
      "539/539 [==============================] - 3s 6ms/step - loss: 0.7131 - mae: 0.3754 - mse: 0.7131 - val_loss: 0.9119 - val_mae: 0.4049 - val_mse: 0.9119\n",
      "Epoch 21/50\n",
      "539/539 [==============================] - 3s 6ms/step - loss: 0.7028 - mae: 0.3709 - mse: 0.7028 - val_loss: 0.9135 - val_mae: 0.3908 - val_mse: 0.9135\n",
      "Epoch 22/50\n",
      "539/539 [==============================] - 3s 6ms/step - loss: 0.6951 - mae: 0.3710 - mse: 0.6951 - val_loss: 0.9197 - val_mae: 0.4141 - val_mse: 0.9197\n",
      "Epoch 23/50\n",
      "539/539 [==============================] - 3s 6ms/step - loss: 0.6863 - mae: 0.3669 - mse: 0.6863 - val_loss: 0.9193 - val_mae: 0.3945 - val_mse: 0.9193\n",
      "Epoch 24/50\n",
      "539/539 [==============================] - 3s 6ms/step - loss: 0.6936 - mae: 0.3689 - mse: 0.6936 - val_loss: 0.9182 - val_mae: 0.4183 - val_mse: 0.9182\n",
      "Epoch 25/50\n",
      "539/539 [==============================] - 3s 6ms/step - loss: 0.6902 - mae: 0.3685 - mse: 0.6902 - val_loss: 0.9169 - val_mae: 0.4005 - val_mse: 0.9169\n",
      "Epoch 26/50\n",
      "539/539 [==============================] - 3s 6ms/step - loss: 0.6740 - mae: 0.3639 - mse: 0.6740 - val_loss: 0.9246 - val_mae: 0.3939 - val_mse: 0.9246\n",
      "Epoch 27/50\n",
      "539/539 [==============================] - 3s 6ms/step - loss: 0.6823 - mae: 0.3657 - mse: 0.6823 - val_loss: 0.9268 - val_mae: 0.4187 - val_mse: 0.9268\n",
      "Epoch 28/50\n",
      "539/539 [==============================] - 3s 5ms/step - loss: 0.6805 - mae: 0.3649 - mse: 0.6805 - val_loss: 0.9257 - val_mae: 0.3863 - val_mse: 0.9257\n",
      "Epoch 29/50\n",
      "539/539 [==============================] - 3s 5ms/step - loss: 0.6687 - mae: 0.3625 - mse: 0.6687 - val_loss: 0.9228 - val_mae: 0.3767 - val_mse: 0.9228\n",
      "Epoch 30/50\n",
      "539/539 [==============================] - 3s 5ms/step - loss: 0.6621 - mae: 0.3601 - mse: 0.6621 - val_loss: 0.9260 - val_mae: 0.3987 - val_mse: 0.9260\n",
      "Epoch 31/50\n",
      "539/539 [==============================] - 3s 5ms/step - loss: 0.6684 - mae: 0.3629 - mse: 0.6684 - val_loss: 0.9310 - val_mae: 0.3921 - val_mse: 0.9310\n",
      "Epoch 32/50\n",
      "539/539 [==============================] - 3s 5ms/step - loss: 0.6512 - mae: 0.3575 - mse: 0.6512 - val_loss: 0.9228 - val_mae: 0.4007 - val_mse: 0.9228\n",
      "Epoch 33/50\n",
      "539/539 [==============================] - 3s 6ms/step - loss: 0.6650 - mae: 0.3605 - mse: 0.6650 - val_loss: 0.9268 - val_mae: 0.3943 - val_mse: 0.9268\n",
      "Epoch 34/50\n",
      "539/539 [==============================] - 3s 6ms/step - loss: 0.6518 - mae: 0.3568 - mse: 0.6518 - val_loss: 0.9240 - val_mae: 0.4041 - val_mse: 0.9240\n",
      "Epoch 35/50\n",
      "539/539 [==============================] - 3s 6ms/step - loss: 0.6478 - mae: 0.3557 - mse: 0.6478 - val_loss: 0.9337 - val_mae: 0.3965 - val_mse: 0.9337\n",
      "Epoch 36/50\n",
      "539/539 [==============================] - 3s 5ms/step - loss: 0.6462 - mae: 0.3557 - mse: 0.6462 - val_loss: 0.9244 - val_mae: 0.4020 - val_mse: 0.9244\n",
      "Epoch 37/50\n",
      "539/539 [==============================] - 3s 5ms/step - loss: 0.6471 - mae: 0.3553 - mse: 0.6471 - val_loss: 0.9331 - val_mae: 0.4127 - val_mse: 0.9331\n",
      "Epoch 38/50\n",
      "539/539 [==============================] - 3s 5ms/step - loss: 0.6386 - mae: 0.3534 - mse: 0.6386 - val_loss: 0.9325 - val_mae: 0.4101 - val_mse: 0.9325\n",
      "Epoch 39/50\n",
      "539/539 [==============================] - 3s 5ms/step - loss: 0.6324 - mae: 0.3539 - mse: 0.6324 - val_loss: 0.9370 - val_mae: 0.3900 - val_mse: 0.9370\n",
      "Epoch 40/50\n",
      "539/539 [==============================] - 3s 5ms/step - loss: 0.6485 - mae: 0.3573 - mse: 0.6485 - val_loss: 0.9339 - val_mae: 0.4211 - val_mse: 0.9339\n",
      "Epoch 41/50\n",
      "539/539 [==============================] - 3s 5ms/step - loss: 0.6340 - mae: 0.3546 - mse: 0.6340 - val_loss: 0.9412 - val_mae: 0.4073 - val_mse: 0.9412\n",
      "Epoch 42/50\n",
      "539/539 [==============================] - 3s 5ms/step - loss: 0.6363 - mae: 0.3528 - mse: 0.6363 - val_loss: 0.9467 - val_mae: 0.3893 - val_mse: 0.9467\n",
      "Epoch 43/50\n",
      "539/539 [==============================] - 3s 5ms/step - loss: 0.6351 - mae: 0.3518 - mse: 0.6351 - val_loss: 0.9419 - val_mae: 0.3893 - val_mse: 0.9419\n",
      "Epoch 44/50\n",
      "539/539 [==============================] - 3s 6ms/step - loss: 0.6301 - mae: 0.3509 - mse: 0.6301 - val_loss: 0.9468 - val_mae: 0.3955 - val_mse: 0.9468\n",
      "Epoch 45/50\n",
      "539/539 [==============================] - 3s 6ms/step - loss: 0.6309 - mae: 0.3533 - mse: 0.6309 - val_loss: 0.9447 - val_mae: 0.4047 - val_mse: 0.9447\n",
      "Epoch 46/50\n",
      "539/539 [==============================] - 3s 6ms/step - loss: 0.6336 - mae: 0.3521 - mse: 0.6336 - val_loss: 0.9397 - val_mae: 0.3812 - val_mse: 0.9397\n",
      "Epoch 47/50\n",
      "539/539 [==============================] - 3s 6ms/step - loss: 0.6214 - mae: 0.3479 - mse: 0.6214 - val_loss: 0.9474 - val_mae: 0.3884 - val_mse: 0.9474\n",
      "Epoch 48/50\n",
      "539/539 [==============================] - 3s 6ms/step - loss: 0.6389 - mae: 0.3528 - mse: 0.6389 - val_loss: 0.9501 - val_mae: 0.3840 - val_mse: 0.9501\n",
      "Epoch 49/50\n",
      "539/539 [==============================] - 3s 6ms/step - loss: 0.6293 - mae: 0.3510 - mse: 0.6293 - val_loss: 0.9407 - val_mae: 0.3856 - val_mse: 0.9407\n",
      "Epoch 50/50\n",
      "539/539 [==============================] - 3s 5ms/step - loss: 0.6180 - mae: 0.3470 - mse: 0.6180 - val_loss: 0.9440 - val_mae: 0.4069 - val_mse: 0.9440\n"
     ]
    }
   ],
   "source": [
    "hist = model.fit(X_train, Y_train, epochs=50, batch_size=1000, validation_data=(X_val, Y_val), verbose=1)"
   ]
  },
  {
   "cell_type": "code",
   "execution_count": 161,
   "metadata": {},
   "outputs": [],
   "source": [
    "model.save('sharpness.h5')"
   ]
  },
  {
   "cell_type": "markdown",
   "metadata": {},
   "source": [
    "# Validation"
   ]
  },
  {
   "cell_type": "markdown",
   "metadata": {},
   "source": [
    "## What is the predictive power of the score?\n",
    "Here, we look at the correlation between the score and the actual loss. We find that it stands at around 0.28. By holding the player's ELO constant, we obtain a measure of a position's sharpness, we find that this is still correlated decently with the outcome variables (0.24).\n",
    "\n",
    "There is no clear sense of how good this performance is. In future work, we plan to investigate how this prediction compares to human estimates of sharpness."
   ]
  },
  {
   "cell_type": "code",
   "execution_count": 173,
   "metadata": {},
   "outputs": [
    {
     "data": {
      "text/html": [
       "<div>\n",
       "<style scoped>\n",
       "    .dataframe tbody tr th:only-of-type {\n",
       "        vertical-align: middle;\n",
       "    }\n",
       "\n",
       "    .dataframe tbody tr th {\n",
       "        vertical-align: top;\n",
       "    }\n",
       "\n",
       "    .dataframe thead th {\n",
       "        text-align: right;\n",
       "    }\n",
       "</style>\n",
       "<table border=\"1\" class=\"dataframe\">\n",
       "  <thead>\n",
       "    <tr style=\"text-align: right;\">\n",
       "      <th></th>\n",
       "      <th>cploss</th>\n",
       "      <th>elo_white</th>\n",
       "      <th>pred</th>\n",
       "      <th>pred_sharpness</th>\n",
       "    </tr>\n",
       "  </thead>\n",
       "  <tbody>\n",
       "    <tr>\n",
       "      <th>cploss</th>\n",
       "      <td>100.00</td>\n",
       "      <td>-7.99</td>\n",
       "      <td>25.36</td>\n",
       "      <td>24.03</td>\n",
       "    </tr>\n",
       "    <tr>\n",
       "      <th>elo_white</th>\n",
       "      <td>-7.99</td>\n",
       "      <td>100.00</td>\n",
       "      <td>-10.78</td>\n",
       "      <td>-2.61</td>\n",
       "    </tr>\n",
       "    <tr>\n",
       "      <th>pred</th>\n",
       "      <td>25.36</td>\n",
       "      <td>-10.78</td>\n",
       "      <td>100.00</td>\n",
       "      <td>96.58</td>\n",
       "    </tr>\n",
       "    <tr>\n",
       "      <th>pred_sharpness</th>\n",
       "      <td>24.03</td>\n",
       "      <td>-2.61</td>\n",
       "      <td>96.58</td>\n",
       "      <td>100.00</td>\n",
       "    </tr>\n",
       "  </tbody>\n",
       "</table>\n",
       "</div>"
      ],
      "text/plain": [
       "                cploss  elo_white    pred  pred_sharpness\n",
       "cploss          100.00      -7.99   25.36           24.03\n",
       "elo_white        -7.99     100.00  -10.78           -2.61\n",
       "pred             25.36     -10.78  100.00           96.58\n",
       "pred_sharpness   24.03      -2.61   96.58          100.00"
      ]
     },
     "execution_count": 173,
     "metadata": {},
     "output_type": "execute_result"
    }
   ],
   "source": [
    "ELO_ELITE = 2800\n",
    "df_val['pred'] = model.predict(X_val)[:, 0] * stds['cploss']\n",
    "X_val_2 = X_val.copy()\n",
    "X_val_2[:, -1] = ELO_ELITE / ELO_SCALE\n",
    "df_val['pred_sharpness'] = model.predict(X_val_2)[:, 0] * stds['cploss']\n",
    "df_val.query('is_white')[['cploss', 'elo_white', 'pred', 'pred_sharpness']].corr() * 100"
   ]
  },
  {
   "cell_type": "code",
   "execution_count": 167,
   "metadata": {},
   "outputs": [
    {
     "data": {
      "text/plain": [
       "cploss            20.77\n",
       "pred_sharpness    18.16\n",
       "dtype: float64"
      ]
     },
     "execution_count": 167,
     "metadata": {},
     "output_type": "execute_result"
    }
   ],
   "source": [
    "df_val[['cploss', 'pred_sharpness']].mean()"
   ]
  },
  {
   "cell_type": "markdown",
   "metadata": {},
   "source": [
    "# Evaluating the results: 2018 Candidates"
   ]
  },
  {
   "cell_type": "code",
   "execution_count": 168,
   "metadata": {},
   "outputs": [],
   "source": [
    "df_cand = df_val[df_val.tournament == tournament_cand]"
   ]
  },
  {
   "cell_type": "markdown",
   "metadata": {},
   "source": [
    "## Sharpness by player"
   ]
  },
  {
   "cell_type": "code",
   "execution_count": 169,
   "metadata": {},
   "outputs": [
    {
     "data": {
      "text/html": [
       "<div>\n",
       "<style scoped>\n",
       "    .dataframe tbody tr th:only-of-type {\n",
       "        vertical-align: middle;\n",
       "    }\n",
       "\n",
       "    .dataframe tbody tr th {\n",
       "        vertical-align: top;\n",
       "    }\n",
       "\n",
       "    .dataframe thead th {\n",
       "        text-align: right;\n",
       "    }\n",
       "</style>\n",
       "<table border=\"1\" class=\"dataframe\">\n",
       "  <thead>\n",
       "    <tr style=\"text-align: right;\">\n",
       "      <th></th>\n",
       "      <th>Predicted Sharpness</th>\n",
       "      <th>CP Loss</th>\n",
       "    </tr>\n",
       "    <tr>\n",
       "      <th>last_name_white</th>\n",
       "      <th></th>\n",
       "      <th></th>\n",
       "    </tr>\n",
       "  </thead>\n",
       "  <tbody>\n",
       "    <tr>\n",
       "      <th>Aronian</th>\n",
       "      <td>22.15</td>\n",
       "      <td>26.84</td>\n",
       "    </tr>\n",
       "    <tr>\n",
       "      <th>Caruana</th>\n",
       "      <td>19.16</td>\n",
       "      <td>15.01</td>\n",
       "    </tr>\n",
       "    <tr>\n",
       "      <th>Ding</th>\n",
       "      <td>20.14</td>\n",
       "      <td>16.05</td>\n",
       "    </tr>\n",
       "    <tr>\n",
       "      <th>Grischuk</th>\n",
       "      <td>16.94</td>\n",
       "      <td>16.90</td>\n",
       "    </tr>\n",
       "    <tr>\n",
       "      <th>Karjakin</th>\n",
       "      <td>20.18</td>\n",
       "      <td>19.17</td>\n",
       "    </tr>\n",
       "    <tr>\n",
       "      <th>Kramnik</th>\n",
       "      <td>20.50</td>\n",
       "      <td>15.23</td>\n",
       "    </tr>\n",
       "    <tr>\n",
       "      <th>Mamedyarov</th>\n",
       "      <td>15.79</td>\n",
       "      <td>14.52</td>\n",
       "    </tr>\n",
       "    <tr>\n",
       "      <th>So</th>\n",
       "      <td>15.44</td>\n",
       "      <td>11.77</td>\n",
       "    </tr>\n",
       "  </tbody>\n",
       "</table>\n",
       "</div>"
      ],
      "text/plain": [
       "                 Predicted Sharpness  CP Loss\n",
       "last_name_white                              \n",
       "Aronian                        22.15    26.84\n",
       "Caruana                        19.16    15.01\n",
       "Ding                           20.14    16.05\n",
       "Grischuk                       16.94    16.90\n",
       "Karjakin                       20.18    19.17\n",
       "Kramnik                        20.50    15.23\n",
       "Mamedyarov                     15.79    14.52\n",
       "So                             15.44    11.77"
      ]
     },
     "execution_count": 169,
     "metadata": {},
     "output_type": "execute_result"
    }
   ],
   "source": [
    "player_stats = (\n",
    "    df_cand\n",
    "    .query('is_white')\n",
    "    .groupby('last_name_white')['pred_sharpness', 'cploss']\n",
    "    .mean()\n",
    "    .rename(columns={'pred_sharpness': 'Predicted Sharpness', 'cploss': 'CP Loss'}))\n",
    "\n",
    "player_stats"
   ]
  },
  {
   "cell_type": "markdown",
   "metadata": {},
   "source": [
    "## Game statistics"
   ]
  },
  {
   "cell_type": "code",
   "execution_count": 170,
   "metadata": {},
   "outputs": [],
   "source": [
    "group_vars = ['game_id', 'last_name_white', 'last_name_black']\n",
    "game_stats = (\n",
    "    df_cand.groupby(group_vars)[['pred_sharpness', 'cploss']]\n",
    "    .mean()\n",
    "    .sort_values('pred_sharpness', ascending=False)\n",
    "    .reset_index()\n",
    "    .rename(columns={'pred_sharpness': 'Predicted Sharpness', 'cploss': 'CP Loss'})\n",
    ")"
   ]
  },
  {
   "cell_type": "markdown",
   "metadata": {},
   "source": [
    "### Sharpest games"
   ]
  },
  {
   "cell_type": "code",
   "execution_count": 171,
   "metadata": {},
   "outputs": [
    {
     "data": {
      "text/html": [
       "<div>\n",
       "<style scoped>\n",
       "    .dataframe tbody tr th:only-of-type {\n",
       "        vertical-align: middle;\n",
       "    }\n",
       "\n",
       "    .dataframe tbody tr th {\n",
       "        vertical-align: top;\n",
       "    }\n",
       "\n",
       "    .dataframe thead th {\n",
       "        text-align: right;\n",
       "    }\n",
       "</style>\n",
       "<table border=\"1\" class=\"dataframe\">\n",
       "  <thead>\n",
       "    <tr style=\"text-align: right;\">\n",
       "      <th></th>\n",
       "      <th>game_id</th>\n",
       "      <th>last_name_white</th>\n",
       "      <th>last_name_black</th>\n",
       "      <th>Predicted Sharpness</th>\n",
       "      <th>CP Loss</th>\n",
       "    </tr>\n",
       "  </thead>\n",
       "  <tbody>\n",
       "    <tr>\n",
       "      <th>0</th>\n",
       "      <td>3449</td>\n",
       "      <td>Caruana</td>\n",
       "      <td>Mamedyarov</td>\n",
       "      <td>29.51</td>\n",
       "      <td>16.02</td>\n",
       "    </tr>\n",
       "    <tr>\n",
       "      <th>1</th>\n",
       "      <td>3476</td>\n",
       "      <td>Karjakin</td>\n",
       "      <td>Kramnik</td>\n",
       "      <td>27.97</td>\n",
       "      <td>24.66</td>\n",
       "    </tr>\n",
       "    <tr>\n",
       "      <th>2</th>\n",
       "      <td>3466</td>\n",
       "      <td>Aronian</td>\n",
       "      <td>Caruana</td>\n",
       "      <td>27.90</td>\n",
       "      <td>35.51</td>\n",
       "    </tr>\n",
       "    <tr>\n",
       "      <th>3</th>\n",
       "      <td>3482</td>\n",
       "      <td>Aronian</td>\n",
       "      <td>Karjakin</td>\n",
       "      <td>27.03</td>\n",
       "      <td>24.25</td>\n",
       "    </tr>\n",
       "    <tr>\n",
       "      <th>4</th>\n",
       "      <td>3456</td>\n",
       "      <td>Kramnik</td>\n",
       "      <td>Caruana</td>\n",
       "      <td>26.77</td>\n",
       "      <td>25.62</td>\n",
       "    </tr>\n",
       "    <tr>\n",
       "      <th>5</th>\n",
       "      <td>3443</td>\n",
       "      <td>Aronian</td>\n",
       "      <td>Ding</td>\n",
       "      <td>26.49</td>\n",
       "      <td>38.32</td>\n",
       "    </tr>\n",
       "    <tr>\n",
       "      <th>6</th>\n",
       "      <td>3468</td>\n",
       "      <td>Kramnik</td>\n",
       "      <td>Ding</td>\n",
       "      <td>25.99</td>\n",
       "      <td>10.92</td>\n",
       "    </tr>\n",
       "    <tr>\n",
       "      <th>7</th>\n",
       "      <td>3483</td>\n",
       "      <td>Ding</td>\n",
       "      <td>Grischuk</td>\n",
       "      <td>25.79</td>\n",
       "      <td>23.96</td>\n",
       "    </tr>\n",
       "    <tr>\n",
       "      <th>8</th>\n",
       "      <td>3442</td>\n",
       "      <td>Karjakin</td>\n",
       "      <td>Mamedyarov</td>\n",
       "      <td>23.74</td>\n",
       "      <td>24.54</td>\n",
       "    </tr>\n",
       "    <tr>\n",
       "      <th>9</th>\n",
       "      <td>3492</td>\n",
       "      <td>Caruana</td>\n",
       "      <td>Aronian</td>\n",
       "      <td>21.86</td>\n",
       "      <td>29.21</td>\n",
       "    </tr>\n",
       "  </tbody>\n",
       "</table>\n",
       "</div>"
      ],
      "text/plain": [
       "   game_id last_name_white last_name_black  Predicted Sharpness  CP Loss\n",
       "0     3449         Caruana      Mamedyarov                29.51    16.02\n",
       "1     3476        Karjakin         Kramnik                27.97    24.66\n",
       "2     3466         Aronian         Caruana                27.90    35.51\n",
       "3     3482         Aronian        Karjakin                27.03    24.25\n",
       "4     3456         Kramnik         Caruana                26.77    25.62\n",
       "5     3443         Aronian            Ding                26.49    38.32\n",
       "6     3468         Kramnik            Ding                25.99    10.92\n",
       "7     3483            Ding        Grischuk                25.79    23.96\n",
       "8     3442        Karjakin      Mamedyarov                23.74    24.54\n",
       "9     3492         Caruana         Aronian                21.86    29.21"
      ]
     },
     "execution_count": 171,
     "metadata": {},
     "output_type": "execute_result"
    }
   ],
   "source": [
    "game_stats.head(10)"
   ]
  },
  {
   "cell_type": "markdown",
   "metadata": {},
   "source": [
    "### Least sharp games"
   ]
  },
  {
   "cell_type": "code",
   "execution_count": 172,
   "metadata": {},
   "outputs": [
    {
     "data": {
      "text/html": [
       "<div>\n",
       "<style scoped>\n",
       "    .dataframe tbody tr th:only-of-type {\n",
       "        vertical-align: middle;\n",
       "    }\n",
       "\n",
       "    .dataframe tbody tr th {\n",
       "        vertical-align: top;\n",
       "    }\n",
       "\n",
       "    .dataframe thead th {\n",
       "        text-align: right;\n",
       "    }\n",
       "</style>\n",
       "<table border=\"1\" class=\"dataframe\">\n",
       "  <thead>\n",
       "    <tr style=\"text-align: right;\">\n",
       "      <th></th>\n",
       "      <th>game_id</th>\n",
       "      <th>last_name_white</th>\n",
       "      <th>last_name_black</th>\n",
       "      <th>Predicted Sharpness</th>\n",
       "      <th>CP Loss</th>\n",
       "    </tr>\n",
       "  </thead>\n",
       "  <tbody>\n",
       "    <tr>\n",
       "      <th>46</th>\n",
       "      <td>3460</td>\n",
       "      <td>Ding</td>\n",
       "      <td>Mamedyarov</td>\n",
       "      <td>14.07</td>\n",
       "      <td>11.42</td>\n",
       "    </tr>\n",
       "    <tr>\n",
       "      <th>47</th>\n",
       "      <td>3479</td>\n",
       "      <td>Ding</td>\n",
       "      <td>So</td>\n",
       "      <td>14.04</td>\n",
       "      <td>8.00</td>\n",
       "    </tr>\n",
       "    <tr>\n",
       "      <th>48</th>\n",
       "      <td>3491</td>\n",
       "      <td>So</td>\n",
       "      <td>Karjakin</td>\n",
       "      <td>14.03</td>\n",
       "      <td>7.00</td>\n",
       "    </tr>\n",
       "    <tr>\n",
       "      <th>49</th>\n",
       "      <td>3484</td>\n",
       "      <td>So</td>\n",
       "      <td>Mamedyarov</td>\n",
       "      <td>13.95</td>\n",
       "      <td>12.51</td>\n",
       "    </tr>\n",
       "    <tr>\n",
       "      <th>50</th>\n",
       "      <td>3458</td>\n",
       "      <td>Caruana</td>\n",
       "      <td>Karjakin</td>\n",
       "      <td>13.93</td>\n",
       "      <td>11.03</td>\n",
       "    </tr>\n",
       "    <tr>\n",
       "      <th>51</th>\n",
       "      <td>3465</td>\n",
       "      <td>Karjakin</td>\n",
       "      <td>So</td>\n",
       "      <td>13.92</td>\n",
       "      <td>11.00</td>\n",
       "    </tr>\n",
       "    <tr>\n",
       "      <th>52</th>\n",
       "      <td>3471</td>\n",
       "      <td>Mamedyarov</td>\n",
       "      <td>Karjakin</td>\n",
       "      <td>13.87</td>\n",
       "      <td>11.93</td>\n",
       "    </tr>\n",
       "    <tr>\n",
       "      <th>53</th>\n",
       "      <td>3473</td>\n",
       "      <td>So</td>\n",
       "      <td>Grischuk</td>\n",
       "      <td>13.75</td>\n",
       "      <td>6.56</td>\n",
       "    </tr>\n",
       "    <tr>\n",
       "      <th>54</th>\n",
       "      <td>3475</td>\n",
       "      <td>Aronian</td>\n",
       "      <td>Mamedyarov</td>\n",
       "      <td>13.38</td>\n",
       "      <td>9.76</td>\n",
       "    </tr>\n",
       "    <tr>\n",
       "      <th>55</th>\n",
       "      <td>3480</td>\n",
       "      <td>Grischuk</td>\n",
       "      <td>Karjakin</td>\n",
       "      <td>13.25</td>\n",
       "      <td>7.11</td>\n",
       "    </tr>\n",
       "  </tbody>\n",
       "</table>\n",
       "</div>"
      ],
      "text/plain": [
       "    game_id last_name_white last_name_black  Predicted Sharpness  CP Loss\n",
       "46     3460            Ding      Mamedyarov                14.07    11.42\n",
       "47     3479            Ding              So                14.04     8.00\n",
       "48     3491              So        Karjakin                14.03     7.00\n",
       "49     3484              So      Mamedyarov                13.95    12.51\n",
       "50     3458         Caruana        Karjakin                13.93    11.03\n",
       "51     3465        Karjakin              So                13.92    11.00\n",
       "52     3471      Mamedyarov        Karjakin                13.87    11.93\n",
       "53     3473              So        Grischuk                13.75     6.56\n",
       "54     3475         Aronian      Mamedyarov                13.38     9.76\n",
       "55     3480        Grischuk        Karjakin                13.25     7.11"
      ]
     },
     "execution_count": 172,
     "metadata": {},
     "output_type": "execute_result"
    }
   ],
   "source": [
    "game_stats.tail(10)"
   ]
  },
  {
   "cell_type": "code",
   "execution_count": 178,
   "metadata": {},
   "outputs": [
    {
     "data": {
      "text/html": [
       "<div>\n",
       "<style scoped>\n",
       "    .dataframe tbody tr th:only-of-type {\n",
       "        vertical-align: middle;\n",
       "    }\n",
       "\n",
       "    .dataframe tbody tr th {\n",
       "        vertical-align: top;\n",
       "    }\n",
       "\n",
       "    .dataframe thead th {\n",
       "        text-align: right;\n",
       "    }\n",
       "</style>\n",
       "<table border=\"1\" class=\"dataframe\">\n",
       "  <thead>\n",
       "    <tr style=\"text-align: right;\">\n",
       "      <th></th>\n",
       "      <th>game_id</th>\n",
       "      <th>last_name_white</th>\n",
       "      <th>last_name_black</th>\n",
       "      <th>pred_sharpness</th>\n",
       "      <th>cploss</th>\n",
       "    </tr>\n",
       "  </thead>\n",
       "  <tbody>\n",
       "    <tr>\n",
       "      <th>0</th>\n",
       "      <td>21510</td>\n",
       "      <td>Hornsgaard</td>\n",
       "      <td>Lindfeldt</td>\n",
       "      <td>91.91</td>\n",
       "      <td>133.33</td>\n",
       "    </tr>\n",
       "    <tr>\n",
       "      <th>1</th>\n",
       "      <td>18807</td>\n",
       "      <td>Nogueiras Santiago</td>\n",
       "      <td>Calderin Gonzalez</td>\n",
       "      <td>91.16</td>\n",
       "      <td>120.00</td>\n",
       "    </tr>\n",
       "    <tr>\n",
       "      <th>2</th>\n",
       "      <td>20089</td>\n",
       "      <td>Zakhartsov</td>\n",
       "      <td>Loginov</td>\n",
       "      <td>78.87</td>\n",
       "      <td>27.67</td>\n",
       "    </tr>\n",
       "    <tr>\n",
       "      <th>3</th>\n",
       "      <td>16254</td>\n",
       "      <td>Ristic</td>\n",
       "      <td>Feletar</td>\n",
       "      <td>78.48</td>\n",
       "      <td>73.20</td>\n",
       "    </tr>\n",
       "    <tr>\n",
       "      <th>4</th>\n",
       "      <td>26760</td>\n",
       "      <td>Petrov</td>\n",
       "      <td>Radovanovic</td>\n",
       "      <td>73.37</td>\n",
       "      <td>0.00</td>\n",
       "    </tr>\n",
       "    <tr>\n",
       "      <th>...</th>\n",
       "      <td>...</td>\n",
       "      <td>...</td>\n",
       "      <td>...</td>\n",
       "      <td>...</td>\n",
       "      <td>...</td>\n",
       "    </tr>\n",
       "    <tr>\n",
       "      <th>16138</th>\n",
       "      <td>27715</td>\n",
       "      <td>Lederman</td>\n",
       "      <td>Van Riemsdijk</td>\n",
       "      <td>12.67</td>\n",
       "      <td>25.00</td>\n",
       "    </tr>\n",
       "    <tr>\n",
       "      <th>16139</th>\n",
       "      <td>18346</td>\n",
       "      <td>Ibar</td>\n",
       "      <td>Suba</td>\n",
       "      <td>12.67</td>\n",
       "      <td>5.50</td>\n",
       "    </tr>\n",
       "    <tr>\n",
       "      <th>16140</th>\n",
       "      <td>23340</td>\n",
       "      <td>Narciso Dublan</td>\n",
       "      <td>Motylev</td>\n",
       "      <td>12.67</td>\n",
       "      <td>46.00</td>\n",
       "    </tr>\n",
       "    <tr>\n",
       "      <th>16141</th>\n",
       "      <td>17499</td>\n",
       "      <td>Blechzin</td>\n",
       "      <td>Titan</td>\n",
       "      <td>12.66</td>\n",
       "      <td>9.00</td>\n",
       "    </tr>\n",
       "    <tr>\n",
       "      <th>16142</th>\n",
       "      <td>4446</td>\n",
       "      <td>Gonzalez</td>\n",
       "      <td>Miranda Herrera</td>\n",
       "      <td>12.66</td>\n",
       "      <td>21.00</td>\n",
       "    </tr>\n",
       "  </tbody>\n",
       "</table>\n",
       "<p>16143 rows × 5 columns</p>\n",
       "</div>"
      ],
      "text/plain": [
       "       game_id     last_name_white    last_name_black  pred_sharpness  cploss\n",
       "0        21510          Hornsgaard          Lindfeldt           91.91  133.33\n",
       "1        18807  Nogueiras Santiago  Calderin Gonzalez           91.16  120.00\n",
       "2        20089          Zakhartsov            Loginov           78.87   27.67\n",
       "3        16254              Ristic            Feletar           78.48   73.20\n",
       "4        26760              Petrov        Radovanovic           73.37    0.00\n",
       "...        ...                 ...                ...             ...     ...\n",
       "16138    27715            Lederman      Van Riemsdijk           12.67   25.00\n",
       "16139    18346                Ibar               Suba           12.67    5.50\n",
       "16140    23340      Narciso Dublan            Motylev           12.67   46.00\n",
       "16141    17499            Blechzin              Titan           12.66    9.00\n",
       "16142     4446            Gonzalez    Miranda Herrera           12.66   21.00\n",
       "\n",
       "[16143 rows x 5 columns]"
      ]
     },
     "execution_count": 178,
     "metadata": {},
     "output_type": "execute_result"
    }
   ],
   "source": [
    "(df_val.groupby(group_vars)[['pred_sharpness', 'cploss']].mean()\n",
    "    .sort_values('pred_sharpness', ascending=False)\n",
    "    .reset_index())"
   ]
  },
  {
   "cell_type": "code",
   "execution_count": null,
   "metadata": {},
   "outputs": [],
   "source": []
  }
 ],
 "metadata": {
  "kernelspec": {
   "display_name": "Python 3",
   "language": "python",
   "name": "python3"
  },
  "language_info": {
   "codemirror_mode": {
    "name": "ipython",
    "version": 3
   },
   "file_extension": ".py",
   "mimetype": "text/x-python",
   "name": "python",
   "nbconvert_exporter": "python",
   "pygments_lexer": "ipython3",
   "version": "3.8.3"
  }
 },
 "nbformat": 4,
 "nbformat_minor": 2
}
