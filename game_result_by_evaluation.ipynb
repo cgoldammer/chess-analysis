{
 "cells": [
  {
   "cell_type": "markdown",
   "metadata": {},
   "source": [
    "# Overview\n",
    "\n",
    "In this analysis, we measure how well players convert an advantage, as measured by the computer evaluation.\n",
    "\n",
    "For instance, we would expect a player to obtain roughly 50% of all available points if they have an equal position against a similarly-rated player. But this percentage will increase if they are higher-rated than their opponent.\n",
    "\n",
    "I find that, if you are playing against someone who is 300 points lower-rated than you, and you are in a losing position (-2), then you're still expected to get more than 50% of points!\n",
    "\n",
    "The impact of the rating on the win percentage is not strongly affected by player quality, the effects are similarly strong for a sample of strong players (Elo > 2000) and super tournaments."
   ]
  },
  {
   "cell_type": "markdown",
   "metadata": {},
   "source": [
    "# Setup"
   ]
  },
  {
   "cell_type": "code",
   "execution_count": 5,
   "metadata": {},
   "outputs": [],
   "source": [
    "import pandas as pd\n",
    "import numpy as np\n",
    "import psycopg2\n",
    "import pandas.io.sql as sqlio\n",
    "import statsmodels.formula.api as smf\n",
    "import imp"
   ]
  },
  {
   "cell_type": "code",
   "execution_count": 6,
   "metadata": {},
   "outputs": [
    {
     "data": {
      "text/plain": [
       "<module 'queries' from '/Users/cg/Dropbox/code/Python/chess-analysis/queries.py'>"
      ]
     },
     "execution_count": 6,
     "metadata": {},
     "output_type": "execute_result"
    }
   ],
   "source": [
    "import queries\n",
    "import functions as f\n",
    "imp.reload(f); imp.reload(queries)"
   ]
  },
  {
   "cell_type": "code",
   "execution_count": 7,
   "metadata": {},
   "outputs": [],
   "source": [
    "pd.set_option('precision', 2) \n",
    "pd.set_option('display.width', 200)\n",
    "\n",
    "%matplotlib inline\n",
    "import matplotlib\n",
    "import numpy as np\n",
    "import matplotlib.pyplot as plt"
   ]
  },
  {
   "cell_type": "code",
   "execution_count": 13,
   "metadata": {},
   "outputs": [],
   "source": [
    "use_dev = False\n",
    "connstring = f.CONNSTRING_DEV if use_dev else f.CONNSTRING_PROD\n",
    "conn = psycopg2.connect(connstring)"
   ]
  },
  {
   "cell_type": "markdown",
   "metadata": {},
   "source": [
    "# Data cleaning"
   ]
  },
  {
   "cell_type": "markdown",
   "metadata": {},
   "source": [
    "We look only at moves between move 10 and 40 of a game. Thus we exclude moves in which most players are still in book and also long endgames which provide a lot of observations, but little change in the status of the game."
   ]
  },
  {
   "cell_type": "code",
   "execution_count": 18,
   "metadata": {},
   "outputs": [],
   "source": [
    "params = {\n",
    "    'move_number_start': 10,\n",
    "    'move_number_end': 40\n",
    "}"
   ]
  },
  {
   "cell_type": "code",
   "execution_count": 24,
   "metadata": {},
   "outputs": [
    {
     "data": {
      "text/plain": [
       "(572665, 6)"
      ]
     },
     "execution_count": 24,
     "metadata": {},
     "output_type": "execute_result"
    }
   ],
   "source": [
    "df = sqlio.read_sql_query(queries.q_rating, conn, params=params) \n",
    "df.shape"
   ]
  },
  {
   "cell_type": "markdown",
   "metadata": {},
   "source": [
    "## Summary statistics"
   ]
  },
  {
   "cell_type": "markdown",
   "metadata": {},
   "source": [
    "### Number of observations "
   ]
  },
  {
   "cell_type": "code",
   "execution_count": 25,
   "metadata": {},
   "outputs": [
    {
     "data": {
      "text/plain": [
       "kingbase_random                       532836\n",
       "Rejkjavik Open 2018                    23716\n",
       "Candidates 2011-2018                    5916\n",
       "Wijk An Zee (Tata Steel) 2012-2018      5193\n",
       "Supertournaments 2017                   4461\n",
       "World Championships 1886-2014            543\n",
       "Name: db_name, dtype: int64"
      ]
     },
     "execution_count": 25,
     "metadata": {},
     "output_type": "execute_result"
    }
   ],
   "source": [
    "df.db_name.value_counts()"
   ]
  },
  {
   "cell_type": "code",
   "execution_count": 26,
   "metadata": {},
   "outputs": [],
   "source": [
    "df['difference'] = df.rating_own - df.rating_opponent \n",
    "df['result'] = df.win + 0.5 * df.draw"
   ]
  },
  {
   "cell_type": "markdown",
   "metadata": {},
   "source": [
    "### Standard deviation of rating difference\n",
    "The standard deviation is much smaller in elite tournaments than in opens:"
   ]
  },
  {
   "cell_type": "code",
   "execution_count": 27,
   "metadata": {},
   "outputs": [
    {
     "data": {
      "text/plain": [
       "db_name\n",
       "Candidates 2011-2018                   35.01\n",
       "Rejkjavik Open 2018                   321.70\n",
       "Supertournaments 2017                  61.70\n",
       "Wijk An Zee (Tata Steel) 2012-2018     87.20\n",
       "World Championships 1886-2014          82.67\n",
       "kingbase_random                       173.47\n",
       "Name: difference, dtype: float64"
      ]
     },
     "execution_count": 27,
     "metadata": {},
     "output_type": "execute_result"
    }
   ],
   "source": [
    "df.groupby('db_name').difference.std()"
   ]
  },
  {
   "cell_type": "markdown",
   "metadata": {},
   "source": [
    "## Data cleaning"
   ]
  },
  {
   "cell_type": "markdown",
   "metadata": {},
   "source": [
    "Creating a grouped variable for the rating difference"
   ]
  },
  {
   "cell_type": "code",
   "execution_count": 28,
   "metadata": {},
   "outputs": [],
   "source": [
    "df['difference_group'] = round(df.difference / 200)\n",
    "diff_max = 3\n",
    "df.loc[df.difference_group < -diff_max, 'difference_group'] = -diff_max\n",
    "df.loc[df.difference_group > diff_max, 'difference_group'] = diff_max\n",
    "\n",
    "df['eval_group'] = round(df.ev / 100)"
   ]
  },
  {
   "cell_type": "markdown",
   "metadata": {},
   "source": [
    "# Summarizing the data"
   ]
  },
  {
   "cell_type": "code",
   "execution_count": 35,
   "metadata": {},
   "outputs": [],
   "source": [
    "df_king = df.query('db_name == \"kingbase_random\"')"
   ]
  },
  {
   "cell_type": "code",
   "execution_count": 36,
   "metadata": {},
   "outputs": [],
   "source": [
    "means = pd.DataFrame(\n",
    "     df_king\n",
    "    .query('-3 <= eval_group <= 3')\n",
    "    .groupby(['difference_group', 'eval_group'])\n",
    "    .result\n",
    "    .mean()\n",
    ")\n",
    "counts = (df_king\n",
    "  .query('-3 <= eval_group <= 3')\n",
    "  .groupby(['difference_group', 'eval_group'])\n",
    "  .result\n",
    "  .count())\n",
    "\n",
    "means['counts'] = counts  \n",
    "means = means.query('counts >= 10 and difference_group >= 0')\n",
    "del means['counts']"
   ]
  },
  {
   "cell_type": "code",
   "execution_count": 42,
   "metadata": {},
   "outputs": [],
   "source": [
    "table = means.unstack(0) * 100 \n",
    "table.index = [int(v) for v in table.index]\n",
    "def group_name(v):\n",
    "    return '%s to %s' % (v*200-100, v*200+100)\n",
    "table.columns = [group_name(v) for v in table.columns.get_level_values(1)]"
   ]
  },
  {
   "cell_type": "code",
   "execution_count": 43,
   "metadata": {},
   "outputs": [
    {
     "data": {
      "text/plain": [
       "<AxesSubplot:title={'center':'Result percentage as function of evaluation and rating difference'}, xlabel='Evaluation', ylabel='Result percentage'>"
      ]
     },
     "execution_count": 43,
     "metadata": {},
     "output_type": "execute_result"
    },
    {
     "data": {
      "image/png": "[encoded data removed]",
      "text/plain": [
       "<Figure size 720x720 with 1 Axes>"
      ]
     },
     "metadata": {
      "needs_background": "light"
     },
     "output_type": "display_data"
    }
   ],
   "source": [
    "fig, ax = plt.subplots()\n",
    "ax.set_xlabel(\"Evaluation\", fontsize=20)\n",
    "ax.set_ylabel(\"Result percentage\", fontsize=20)\n",
    "settings = {\n",
    "    'title': \"Result percentage as function of evaluation and rating difference\",\n",
    "    'fontsize': 20,\n",
    "    'legend': True,\n",
    "    'figsize': (10, 10),\n",
    "    'lw': 4,\n",
    "    'ax': ax\n",
    "}\n",
    "table.plot(**settings)"
   ]
  },
  {
   "cell_type": "markdown",
   "metadata": {},
   "source": [
    "The graph shows the expected result percentage as a function of the position evaluation and the rating difference to the opponent.\n",
    "\n",
    "For instance, we find that, if you play against someone who is 400 points lower-rated then you and your evaluation is -3, then you are still obtaining more than 40% of the points. This is among players with Elo above 2000.\n",
    "\n",
    "Note, however, that this is just one point on this graph. To quantify this by summarizing all the data, we work with a linear regression, below. "
   ]
  },
  {
   "cell_type": "markdown",
   "metadata": {},
   "source": [
    "The same data in table format"
   ]
  },
  {
   "cell_type": "code",
   "execution_count": 44,
   "metadata": {},
   "outputs": [
    {
     "data": {
      "text/html": [
       "<div>\n",
       "<style scoped>\n",
       "    .dataframe tbody tr th:only-of-type {\n",
       "        vertical-align: middle;\n",
       "    }\n",
       "\n",
       "    .dataframe tbody tr th {\n",
       "        vertical-align: top;\n",
       "    }\n",
       "\n",
       "    .dataframe thead th {\n",
       "        text-align: right;\n",
       "    }\n",
       "</style>\n",
       "<table border=\"1\" class=\"dataframe\">\n",
       "  <thead>\n",
       "    <tr style=\"text-align: right;\">\n",
       "      <th></th>\n",
       "      <th>-100.0 to 100.0</th>\n",
       "      <th>100.0 to 300.0</th>\n",
       "      <th>300.0 to 500.0</th>\n",
       "      <th>500.0 to 700.0</th>\n",
       "    </tr>\n",
       "  </thead>\n",
       "  <tbody>\n",
       "    <tr>\n",
       "      <th>-3</th>\n",
       "      <td>7.34</td>\n",
       "      <td>15.98</td>\n",
       "      <td>34.40</td>\n",
       "      <td>NaN</td>\n",
       "    </tr>\n",
       "    <tr>\n",
       "      <th>-2</th>\n",
       "      <td>15.38</td>\n",
       "      <td>29.41</td>\n",
       "      <td>39.17</td>\n",
       "      <td>NaN</td>\n",
       "    </tr>\n",
       "    <tr>\n",
       "      <th>-1</th>\n",
       "      <td>30.78</td>\n",
       "      <td>50.37</td>\n",
       "      <td>56.41</td>\n",
       "      <td>79.41</td>\n",
       "    </tr>\n",
       "    <tr>\n",
       "      <th>0</th>\n",
       "      <td>52.58</td>\n",
       "      <td>71.15</td>\n",
       "      <td>81.50</td>\n",
       "      <td>95.54</td>\n",
       "    </tr>\n",
       "    <tr>\n",
       "      <th>1</th>\n",
       "      <td>66.27</td>\n",
       "      <td>82.82</td>\n",
       "      <td>90.79</td>\n",
       "      <td>98.02</td>\n",
       "    </tr>\n",
       "    <tr>\n",
       "      <th>2</th>\n",
       "      <td>87.72</td>\n",
       "      <td>94.11</td>\n",
       "      <td>95.96</td>\n",
       "      <td>100.00</td>\n",
       "    </tr>\n",
       "    <tr>\n",
       "      <th>3</th>\n",
       "      <td>93.54</td>\n",
       "      <td>97.12</td>\n",
       "      <td>97.35</td>\n",
       "      <td>100.00</td>\n",
       "    </tr>\n",
       "  </tbody>\n",
       "</table>\n",
       "</div>"
      ],
      "text/plain": [
       "    -100.0 to 100.0  100.0 to 300.0  300.0 to 500.0  500.0 to 700.0\n",
       "-3             7.34           15.98           34.40             NaN\n",
       "-2            15.38           29.41           39.17             NaN\n",
       "-1            30.78           50.37           56.41           79.41\n",
       " 0            52.58           71.15           81.50           95.54\n",
       " 1            66.27           82.82           90.79           98.02\n",
       " 2            87.72           94.11           95.96          100.00\n",
       " 3            93.54           97.12           97.35          100.00"
      ]
     },
     "execution_count": 44,
     "metadata": {},
     "output_type": "execute_result"
    }
   ],
   "source": [
    "table"
   ]
  },
  {
   "cell_type": "markdown",
   "metadata": {},
   "source": [
    "## Quantifying the rating-evaluation tradeoff\n",
    "We know try to quantify these effects and calculate the tradeoff between player rating and the position evaluation. We do this using a linear regression."
   ]
  },
  {
   "cell_type": "markdown",
   "metadata": {},
   "source": [
    "Creating helper variables that are scaled, which gives us nicer regression coefficients."
   ]
  },
  {
   "cell_type": "code",
   "execution_count": 45,
   "metadata": {},
   "outputs": [],
   "source": [
    "df['rating_own_small'] = df.rating_own / 100\n",
    "df['rating_opponent_small'] = df.rating_opponent / 100\n",
    "df['diff_small'] = df.difference / 100\n",
    "df['eval_small'] = df.ev / 100"
   ]
  },
  {
   "cell_type": "code",
   "execution_count": 47,
   "metadata": {},
   "outputs": [
    {
     "data": {
      "text/html": [
       "<table class=\"simpletable\">\n",
       "<caption>OLS Regression Results</caption>\n",
       "<tr>\n",
       "  <th>Dep. Variable:</th>         <td>result</td>      <th>  R-squared:         </th>  <td>   0.362</td>  \n",
       "</tr>\n",
       "<tr>\n",
       "  <th>Model:</th>                   <td>OLS</td>       <th>  Adj. R-squared:    </th>  <td>   0.362</td>  \n",
       "</tr>\n",
       "<tr>\n",
       "  <th>Method:</th>             <td>Least Squares</td>  <th>  F-statistic:       </th>  <td>1.453e+05</td> \n",
       "</tr>\n",
       "<tr>\n",
       "  <th>Date:</th>             <td>Sat, 01 Jan 2022</td> <th>  Prob (F-statistic):</th>   <td>  0.00</td>   \n",
       "</tr>\n",
       "<tr>\n",
       "  <th>Time:</th>                 <td>12:55:14</td>     <th>  Log-Likelihood:    </th> <td>-1.4711e+05</td>\n",
       "</tr>\n",
       "<tr>\n",
       "  <th>No. Observations:</th>      <td>511532</td>      <th>  AIC:               </th>  <td>2.942e+05</td> \n",
       "</tr>\n",
       "<tr>\n",
       "  <th>Df Residuals:</th>          <td>511529</td>      <th>  BIC:               </th>  <td>2.943e+05</td> \n",
       "</tr>\n",
       "<tr>\n",
       "  <th>Df Model:</th>              <td>     2</td>      <th>                     </th>      <td> </td>     \n",
       "</tr>\n",
       "<tr>\n",
       "  <th>Covariance Type:</th>      <td>nonrobust</td>    <th>                     </th>      <td> </td>     \n",
       "</tr>\n",
       "</table>\n",
       "<table class=\"simpletable\">\n",
       "<tr>\n",
       "       <td></td>         <th>coef</th>     <th>std err</th>      <th>t</th>      <th>P>|t|</th>  <th>[0.025</th>    <th>0.975]</th>  \n",
       "</tr>\n",
       "<tr>\n",
       "  <th>Intercept</th>  <td>    0.5119</td> <td>    0.000</td> <td> 1122.939</td> <td> 0.000</td> <td>    0.511</td> <td>    0.513</td>\n",
       "</tr>\n",
       "<tr>\n",
       "  <th>eval_small</th> <td>    0.1280</td> <td>    0.000</td> <td>  336.778</td> <td> 0.000</td> <td>    0.127</td> <td>    0.129</td>\n",
       "</tr>\n",
       "<tr>\n",
       "  <th>diff_small</th> <td>    0.0875</td> <td>    0.000</td> <td>  325.704</td> <td> 0.000</td> <td>    0.087</td> <td>    0.088</td>\n",
       "</tr>\n",
       "</table>\n",
       "<table class=\"simpletable\">\n",
       "<tr>\n",
       "  <th>Omnibus:</th>       <td>7838.850</td> <th>  Durbin-Watson:     </th> <td>   0.076</td>\n",
       "</tr>\n",
       "<tr>\n",
       "  <th>Prob(Omnibus):</th>  <td> 0.000</td>  <th>  Jarque-Bera (JB):  </th> <td>5068.977</td>\n",
       "</tr>\n",
       "<tr>\n",
       "  <th>Skew:</th>           <td>-0.108</td>  <th>  Prob(JB):          </th> <td>    0.00</td>\n",
       "</tr>\n",
       "<tr>\n",
       "  <th>Kurtosis:</th>       <td> 2.562</td>  <th>  Cond. No.          </th> <td>    1.84</td>\n",
       "</tr>\n",
       "</table><br/><br/>Notes:<br/>[1] Standard Errors assume that the covariance matrix of the errors is correctly specified."
      ],
      "text/plain": [
       "<class 'statsmodels.iolib.summary.Summary'>\n",
       "\"\"\"\n",
       "                            OLS Regression Results                            \n",
       "==============================================================================\n",
       "Dep. Variable:                 result   R-squared:                       0.362\n",
       "Model:                            OLS   Adj. R-squared:                  0.362\n",
       "Method:                 Least Squares   F-statistic:                 1.453e+05\n",
       "Date:                Sat, 01 Jan 2022   Prob (F-statistic):               0.00\n",
       "Time:                        12:55:14   Log-Likelihood:            -1.4711e+05\n",
       "No. Observations:              511532   AIC:                         2.942e+05\n",
       "Df Residuals:                  511529   BIC:                         2.943e+05\n",
       "Df Model:                           2                                         \n",
       "Covariance Type:            nonrobust                                         \n",
       "==============================================================================\n",
       "                 coef    std err          t      P>|t|      [0.025      0.975]\n",
       "------------------------------------------------------------------------------\n",
       "Intercept      0.5119      0.000   1122.939      0.000       0.511       0.513\n",
       "eval_small     0.1280      0.000    336.778      0.000       0.127       0.129\n",
       "diff_small     0.0875      0.000    325.704      0.000       0.087       0.088\n",
       "==============================================================================\n",
       "Omnibus:                     7838.850   Durbin-Watson:                   0.076\n",
       "Prob(Omnibus):                  0.000   Jarque-Bera (JB):             5068.977\n",
       "Skew:                          -0.108   Prob(JB):                         0.00\n",
       "Kurtosis:                       2.562   Cond. No.                         1.84\n",
       "==============================================================================\n",
       "\n",
       "Notes:\n",
       "[1] Standard Errors assume that the covariance matrix of the errors is correctly specified.\n",
       "\"\"\""
      ]
     },
     "execution_count": 47,
     "metadata": {},
     "output_type": "execute_result"
    }
   ],
   "source": [
    "df_king = df.query('db_name == \"kingbase_random\"')\n",
    "reg = smf.ols('result ~ eval_small + diff_small', data=df_king.query('-5 <= eval_small <= 5')).fit()\n",
    "params = reg.params\n",
    "reg.summary()"
   ]
  },
  {
   "cell_type": "markdown",
   "metadata": {},
   "source": [
    "To check for a non-linear effect, I include a squared term in the regression. The coefficient is small."
   ]
  },
  {
   "cell_type": "code",
   "execution_count": 50,
   "metadata": {},
   "outputs": [
    {
     "data": {
      "text/html": [
       "<table class=\"simpletable\">\n",
       "<caption>OLS Regression Results</caption>\n",
       "<tr>\n",
       "  <th>Dep. Variable:</th>         <td>result</td>      <th>  R-squared:         </th>  <td>   0.362</td>  \n",
       "</tr>\n",
       "<tr>\n",
       "  <th>Model:</th>                   <td>OLS</td>       <th>  Adj. R-squared:    </th>  <td>   0.362</td>  \n",
       "</tr>\n",
       "<tr>\n",
       "  <th>Method:</th>             <td>Least Squares</td>  <th>  F-statistic:       </th>  <td>9.687e+04</td> \n",
       "</tr>\n",
       "<tr>\n",
       "  <th>Date:</th>             <td>Sat, 01 Jan 2022</td> <th>  Prob (F-statistic):</th>   <td>  0.00</td>   \n",
       "</tr>\n",
       "<tr>\n",
       "  <th>Time:</th>                 <td>12:55:38</td>     <th>  Log-Likelihood:    </th> <td>-1.4709e+05</td>\n",
       "</tr>\n",
       "<tr>\n",
       "  <th>No. Observations:</th>      <td>511532</td>      <th>  AIC:               </th>  <td>2.942e+05</td> \n",
       "</tr>\n",
       "<tr>\n",
       "  <th>Df Residuals:</th>          <td>511528</td>      <th>  BIC:               </th>  <td>2.942e+05</td> \n",
       "</tr>\n",
       "<tr>\n",
       "  <th>Df Model:</th>              <td>     3</td>      <th>                     </th>      <td> </td>     \n",
       "</tr>\n",
       "<tr>\n",
       "  <th>Covariance Type:</th>      <td>nonrobust</td>    <th>                     </th>      <td> </td>     \n",
       "</tr>\n",
       "</table>\n",
       "<table class=\"simpletable\">\n",
       "<tr>\n",
       "               <td></td>                 <th>coef</th>     <th>std err</th>      <th>t</th>      <th>P>|t|</th>  <th>[0.025</th>    <th>0.975]</th>  \n",
       "</tr>\n",
       "<tr>\n",
       "  <th>Intercept</th>                  <td>    0.5129</td> <td>    0.000</td> <td> 1038.282</td> <td> 0.000</td> <td>    0.512</td> <td>    0.514</td>\n",
       "</tr>\n",
       "<tr>\n",
       "  <th>eval_small</th>                 <td>    0.1281</td> <td>    0.000</td> <td>  336.586</td> <td> 0.000</td> <td>    0.127</td> <td>    0.129</td>\n",
       "</tr>\n",
       "<tr>\n",
       "  <th>I(eval_small * eval_small)</th> <td>   -0.0007</td> <td>    0.000</td> <td>   -5.364</td> <td> 0.000</td> <td>   -0.001</td> <td>   -0.000</td>\n",
       "</tr>\n",
       "<tr>\n",
       "  <th>diff_small</th>                 <td>    0.0875</td> <td>    0.000</td> <td>  325.726</td> <td> 0.000</td> <td>    0.087</td> <td>    0.088</td>\n",
       "</tr>\n",
       "</table>\n",
       "<table class=\"simpletable\">\n",
       "<tr>\n",
       "  <th>Omnibus:</th>       <td>7840.481</td> <th>  Durbin-Watson:     </th> <td>   0.076</td>\n",
       "</tr>\n",
       "<tr>\n",
       "  <th>Prob(Omnibus):</th>  <td> 0.000</td>  <th>  Jarque-Bera (JB):  </th> <td>5098.351</td>\n",
       "</tr>\n",
       "<tr>\n",
       "  <th>Skew:</th>           <td>-0.110</td>  <th>  Prob(JB):          </th> <td>    0.00</td>\n",
       "</tr>\n",
       "<tr>\n",
       "  <th>Kurtosis:</th>       <td> 2.564</td>  <th>  Cond. No.          </th> <td>    4.33</td>\n",
       "</tr>\n",
       "</table><br/><br/>Notes:<br/>[1] Standard Errors assume that the covariance matrix of the errors is correctly specified."
      ],
      "text/plain": [
       "<class 'statsmodels.iolib.summary.Summary'>\n",
       "\"\"\"\n",
       "                            OLS Regression Results                            \n",
       "==============================================================================\n",
       "Dep. Variable:                 result   R-squared:                       0.362\n",
       "Model:                            OLS   Adj. R-squared:                  0.362\n",
       "Method:                 Least Squares   F-statistic:                 9.687e+04\n",
       "Date:                Sat, 01 Jan 2022   Prob (F-statistic):               0.00\n",
       "Time:                        12:55:38   Log-Likelihood:            -1.4709e+05\n",
       "No. Observations:              511532   AIC:                         2.942e+05\n",
       "Df Residuals:                  511528   BIC:                         2.942e+05\n",
       "Df Model:                           3                                         \n",
       "Covariance Type:            nonrobust                                         \n",
       "==============================================================================================\n",
       "                                 coef    std err          t      P>|t|      [0.025      0.975]\n",
       "----------------------------------------------------------------------------------------------\n",
       "Intercept                      0.5129      0.000   1038.282      0.000       0.512       0.514\n",
       "eval_small                     0.1281      0.000    336.586      0.000       0.127       0.129\n",
       "I(eval_small * eval_small)    -0.0007      0.000     -5.364      0.000      -0.001      -0.000\n",
       "diff_small                     0.0875      0.000    325.726      0.000       0.087       0.088\n",
       "==============================================================================\n",
       "Omnibus:                     7840.481   Durbin-Watson:                   0.076\n",
       "Prob(Omnibus):                  0.000   Jarque-Bera (JB):             5098.351\n",
       "Skew:                          -0.110   Prob(JB):                         0.00\n",
       "Kurtosis:                       2.564   Cond. No.                         4.33\n",
       "==============================================================================\n",
       "\n",
       "Notes:\n",
       "[1] Standard Errors assume that the covariance matrix of the errors is correctly specified.\n",
       "\"\"\""
      ]
     },
     "execution_count": 50,
     "metadata": {},
     "output_type": "execute_result"
    }
   ],
   "source": [
    "reg = smf.ols('result ~ eval_small + I(eval_small*eval_small) + diff_small', data=df_king.query('-5 <= eval_small <= 5')).fit()\n",
    "params = reg.params\n",
    "reg.summary()"
   ]
  },
  {
   "cell_type": "code",
   "execution_count": 51,
   "metadata": {},
   "outputs": [
    {
     "name": "stdout",
     "output_type": "stream",
     "text": [
      "Value of 100 rating points: 0.68\n"
     ]
    }
   ],
   "source": [
    "value_of_100_rating = params['diff_small'] / params['eval_small']\n",
    "print(\"Value of 100 rating points: %0.2f\" % value_of_100_rating)"
   ]
  },
  {
   "cell_type": "code",
   "execution_count": 52,
   "metadata": {},
   "outputs": [],
   "source": [
    "df_value = pd.DataFrame()\n",
    "df_value['rating_difference'] = np.arange(0, 400, 100)\n",
    "df_value['evaluation'] = -(df_value.rating_difference * value_of_100_rating)/100"
   ]
  },
  {
   "cell_type": "markdown",
   "metadata": {},
   "source": [
    "### Evaluation to get result of 50% against a player\n",
    "Note that this is a linear interpolation from the linear regression."
   ]
  },
  {
   "cell_type": "code",
   "execution_count": 55,
   "metadata": {},
   "outputs": [
    {
     "data": {
      "text/html": [
       "<div>\n",
       "<style scoped>\n",
       "    .dataframe tbody tr th:only-of-type {\n",
       "        vertical-align: middle;\n",
       "    }\n",
       "\n",
       "    .dataframe tbody tr th {\n",
       "        vertical-align: top;\n",
       "    }\n",
       "\n",
       "    .dataframe thead th {\n",
       "        text-align: right;\n",
       "    }\n",
       "</style>\n",
       "<table border=\"1\" class=\"dataframe\">\n",
       "  <thead>\n",
       "    <tr style=\"text-align: right;\">\n",
       "      <th></th>\n",
       "      <th>evaluation</th>\n",
       "    </tr>\n",
       "    <tr>\n",
       "      <th>rating_difference</th>\n",
       "      <th></th>\n",
       "    </tr>\n",
       "  </thead>\n",
       "  <tbody>\n",
       "    <tr>\n",
       "      <th>0</th>\n",
       "      <td>-0.00</td>\n",
       "    </tr>\n",
       "    <tr>\n",
       "      <th>100</th>\n",
       "      <td>-0.68</td>\n",
       "    </tr>\n",
       "    <tr>\n",
       "      <th>200</th>\n",
       "      <td>-1.37</td>\n",
       "    </tr>\n",
       "    <tr>\n",
       "      <th>300</th>\n",
       "      <td>-2.05</td>\n",
       "    </tr>\n",
       "  </tbody>\n",
       "</table>\n",
       "</div>"
      ],
      "text/plain": [
       "                   evaluation\n",
       "rating_difference            \n",
       "0                       -0.00\n",
       "100                     -0.68\n",
       "200                     -1.37\n",
       "300                     -2.05"
      ]
     },
     "execution_count": 55,
     "metadata": {},
     "output_type": "execute_result"
    }
   ],
   "source": [
    "df_value.set_index('rating_difference')"
   ]
  },
  {
   "cell_type": "markdown",
   "metadata": {},
   "source": [
    "# Comparison to super-tournaments"
   ]
  },
  {
   "cell_type": "code",
   "execution_count": 57,
   "metadata": {},
   "outputs": [
    {
     "data": {
      "text/html": [
       "<table class=\"simpletable\">\n",
       "<caption>OLS Regression Results</caption>\n",
       "<tr>\n",
       "  <th>Dep. Variable:</th>         <td>result</td>      <th>  R-squared:         </th>  <td>   0.362</td>  \n",
       "</tr>\n",
       "<tr>\n",
       "  <th>Model:</th>                   <td>OLS</td>       <th>  Adj. R-squared:    </th>  <td>   0.362</td>  \n",
       "</tr>\n",
       "<tr>\n",
       "  <th>Method:</th>             <td>Least Squares</td>  <th>  F-statistic:       </th>  <td>9.687e+04</td> \n",
       "</tr>\n",
       "<tr>\n",
       "  <th>Date:</th>             <td>Sat, 01 Jan 2022</td> <th>  Prob (F-statistic):</th>   <td>  0.00</td>   \n",
       "</tr>\n",
       "<tr>\n",
       "  <th>Time:</th>                 <td>12:56:34</td>     <th>  Log-Likelihood:    </th> <td>-1.4709e+05</td>\n",
       "</tr>\n",
       "<tr>\n",
       "  <th>No. Observations:</th>      <td>511532</td>      <th>  AIC:               </th>  <td>2.942e+05</td> \n",
       "</tr>\n",
       "<tr>\n",
       "  <th>Df Residuals:</th>          <td>511528</td>      <th>  BIC:               </th>  <td>2.942e+05</td> \n",
       "</tr>\n",
       "<tr>\n",
       "  <th>Df Model:</th>              <td>     3</td>      <th>                     </th>      <td> </td>     \n",
       "</tr>\n",
       "<tr>\n",
       "  <th>Covariance Type:</th>      <td>nonrobust</td>    <th>                     </th>      <td> </td>     \n",
       "</tr>\n",
       "</table>\n",
       "<table class=\"simpletable\">\n",
       "<tr>\n",
       "               <td></td>                 <th>coef</th>     <th>std err</th>      <th>t</th>      <th>P>|t|</th>  <th>[0.025</th>    <th>0.975]</th>  \n",
       "</tr>\n",
       "<tr>\n",
       "  <th>Intercept</th>                  <td>    0.5129</td> <td>    0.000</td> <td> 1038.282</td> <td> 0.000</td> <td>    0.512</td> <td>    0.514</td>\n",
       "</tr>\n",
       "<tr>\n",
       "  <th>eval_small</th>                 <td>    0.1281</td> <td>    0.000</td> <td>  336.586</td> <td> 0.000</td> <td>    0.127</td> <td>    0.129</td>\n",
       "</tr>\n",
       "<tr>\n",
       "  <th>I(eval_small * eval_small)</th> <td>   -0.0007</td> <td>    0.000</td> <td>   -5.364</td> <td> 0.000</td> <td>   -0.001</td> <td>   -0.000</td>\n",
       "</tr>\n",
       "<tr>\n",
       "  <th>diff_small</th>                 <td>    0.0875</td> <td>    0.000</td> <td>  325.726</td> <td> 0.000</td> <td>    0.087</td> <td>    0.088</td>\n",
       "</tr>\n",
       "</table>\n",
       "<table class=\"simpletable\">\n",
       "<tr>\n",
       "  <th>Omnibus:</th>       <td>7840.481</td> <th>  Durbin-Watson:     </th> <td>   0.076</td>\n",
       "</tr>\n",
       "<tr>\n",
       "  <th>Prob(Omnibus):</th>  <td> 0.000</td>  <th>  Jarque-Bera (JB):  </th> <td>5098.351</td>\n",
       "</tr>\n",
       "<tr>\n",
       "  <th>Skew:</th>           <td>-0.110</td>  <th>  Prob(JB):          </th> <td>    0.00</td>\n",
       "</tr>\n",
       "<tr>\n",
       "  <th>Kurtosis:</th>       <td> 2.564</td>  <th>  Cond. No.          </th> <td>    4.33</td>\n",
       "</tr>\n",
       "</table><br/><br/>Notes:<br/>[1] Standard Errors assume that the covariance matrix of the errors is correctly specified."
      ],
      "text/plain": [
       "<class 'statsmodels.iolib.summary.Summary'>\n",
       "\"\"\"\n",
       "                            OLS Regression Results                            \n",
       "==============================================================================\n",
       "Dep. Variable:                 result   R-squared:                       0.362\n",
       "Model:                            OLS   Adj. R-squared:                  0.362\n",
       "Method:                 Least Squares   F-statistic:                 9.687e+04\n",
       "Date:                Sat, 01 Jan 2022   Prob (F-statistic):               0.00\n",
       "Time:                        12:56:34   Log-Likelihood:            -1.4709e+05\n",
       "No. Observations:              511532   AIC:                         2.942e+05\n",
       "Df Residuals:                  511528   BIC:                         2.942e+05\n",
       "Df Model:                           3                                         \n",
       "Covariance Type:            nonrobust                                         \n",
       "==============================================================================================\n",
       "                                 coef    std err          t      P>|t|      [0.025      0.975]\n",
       "----------------------------------------------------------------------------------------------\n",
       "Intercept                      0.5129      0.000   1038.282      0.000       0.512       0.514\n",
       "eval_small                     0.1281      0.000    336.586      0.000       0.127       0.129\n",
       "I(eval_small * eval_small)    -0.0007      0.000     -5.364      0.000      -0.001      -0.000\n",
       "diff_small                     0.0875      0.000    325.726      0.000       0.087       0.088\n",
       "==============================================================================\n",
       "Omnibus:                     7840.481   Durbin-Watson:                   0.076\n",
       "Prob(Omnibus):                  0.000   Jarque-Bera (JB):             5098.351\n",
       "Skew:                          -0.110   Prob(JB):                         0.00\n",
       "Kurtosis:                       2.564   Cond. No.                         4.33\n",
       "==============================================================================\n",
       "\n",
       "Notes:\n",
       "[1] Standard Errors assume that the covariance matrix of the errors is correctly specified.\n",
       "\"\"\""
      ]
     },
     "execution_count": 57,
     "metadata": {},
     "output_type": "execute_result"
    }
   ],
   "source": [
    "df_super = df.query('db_name == \"Supertournaments 2017\"')\n",
    "reg_super = smf.ols('result ~ eval_small + diff_small', data=df_super.query('-5 <= eval_small <= 5')).fit()\n",
    "params_super = reg_super.params\n",
    "reg.summary()"
   ]
  },
  {
   "cell_type": "code",
   "execution_count": 60,
   "metadata": {},
   "outputs": [
    {
     "name": "stdout",
     "output_type": "stream",
     "text": [
      "Value of 100 rating points (Kingbase): 0.68\n"
     ]
    }
   ],
   "source": [
    "value_of_100_rating = params['diff_small'] / params['eval_small']\n",
    "print(\"Value of 100 rating points (Kingbase): %0.2f\" % value_of_100_rating)"
   ]
  },
  {
   "cell_type": "code",
   "execution_count": 61,
   "metadata": {},
   "outputs": [
    {
     "name": "stdout",
     "output_type": "stream",
     "text": [
      "Value of 100 rating points (Supertournaments): 0.59\n"
     ]
    }
   ],
   "source": [
    "value_of_100_rating = params_super['diff_small'] / params_super['eval_small']\n",
    "print(\"Value of 100 rating points (Supertournaments): %0.2f\" % value_of_100_rating)"
   ]
  },
  {
   "cell_type": "markdown",
   "metadata": {},
   "source": [
    "For elite players, the impact of rating on the result percentage is only a little smaller (0.6 vs 0.7) compared to a sample of games from players with rating above 2000 (Kingbase)."
   ]
  }
 ],
 "metadata": {
  "kernelspec": {
   "display_name": "Python 3",
   "language": "python",
   "name": "python3"
  },
  "language_info": {
   "codemirror_mode": {
    "name": "ipython",
    "version": 3
   },
   "file_extension": ".py",
   "mimetype": "text/x-python",
   "name": "python",
   "nbconvert_exporter": "python",
   "pygments_lexer": "ipython3",
   "version": "3.8.3"
  }
 },
 "nbformat": 4,
 "nbformat_minor": 2
}
