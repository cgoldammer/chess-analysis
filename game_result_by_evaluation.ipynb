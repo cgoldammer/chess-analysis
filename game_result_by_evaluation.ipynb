{
 "cells": [
  {
   "cell_type": "markdown",
   "metadata": {},
   "source": [
    "# Overview\n",
    "\n",
    "In this analysis, we measure how well players convert an advantage, as measured by the computer evaluation.\n",
    "\n",
    "For instance, we would expect a player to obtain roughly 50% of all available points if they have an equal position against a similarly-rated player. But this percentage will increase if they are higher-rated than their opponent.\n",
    "\n",
    "I find that, if you are playing against someone who is 300 points lower-rated than you, and you are in a losing position (-2), then you're still expected to get more than 50% of points!\n",
    "\n",
    "The impact of the rating on the win percentage is not strongly affected by player quality, the effects are similarly strong for a large open tournament (Rejkjavik Open 2018) and super tournaments."
   ]
  },
  {
   "cell_type": "markdown",
   "metadata": {},
   "source": [
    "# Setup"
   ]
  },
  {
   "cell_type": "code",
   "execution_count": 208,
   "metadata": {},
   "outputs": [],
   "source": [
    "import pandas as pd\n",
    "import numpy as np\n",
    "import psycopg2\n",
    "import pandas.io.sql as sqlio\n",
    "import statsmodels.formula.api as smf\n",
    "import imp"
   ]
  },
  {
   "cell_type": "code",
   "execution_count": 209,
   "metadata": {},
   "outputs": [
    {
     "data": {
      "text/plain": [
       "<module 'queries' from '/Users/cg/Dropbox/research/chess/queries.py'>"
      ]
     },
     "execution_count": 209,
     "metadata": {},
     "output_type": "execute_result"
    }
   ],
   "source": [
    "import queries\n",
    "import functions as f\n",
    "imp.reload(f); imp.reload(queries)"
   ]
  },
  {
   "cell_type": "code",
   "execution_count": 210,
   "metadata": {},
   "outputs": [],
   "source": [
    "pd.set_option('precision', 2) \n",
    "pd.set_option('display.width', 200)\n",
    "\n",
    "%matplotlib inline\n",
    "import matplotlib\n",
    "import numpy as np\n",
    "import matplotlib.pyplot as plt"
   ]
  },
  {
   "cell_type": "code",
   "execution_count": 211,
   "metadata": {},
   "outputs": [],
   "source": [
    "conn = psycopg2.connect(f.CONNSTRING)"
   ]
  },
  {
   "cell_type": "markdown",
   "metadata": {},
   "source": [
    "# Data cleaning"
   ]
  },
  {
   "cell_type": "markdown",
   "metadata": {},
   "source": [
    "We look only at moves between move 10 and 40 of a game. Thus we exclude moves in which most players are still in book and also long endgames which provide a lot of observations, but little change in the status of the game."
   ]
  },
  {
   "cell_type": "code",
   "execution_count": 217,
   "metadata": {},
   "outputs": [],
   "source": [
    "params = {\n",
    "    'move_number_start': 10,\n",
    "    'move_number_end': 40\n",
    "}"
   ]
  },
  {
   "cell_type": "code",
   "execution_count": 218,
   "metadata": {},
   "outputs": [
    {
     "data": {
      "text/plain": [
       "(39552, 6)"
      ]
     },
     "execution_count": 218,
     "metadata": {},
     "output_type": "execute_result"
    }
   ],
   "source": [
    "df = sqlio.read_sql_query(queries.q_rating, conn, params=params) \n",
    "df.shape"
   ]
  },
  {
   "cell_type": "markdown",
   "metadata": {},
   "source": [
    "## Summary statistics"
   ]
  },
  {
   "cell_type": "markdown",
   "metadata": {},
   "source": [
    "### Number of observations "
   ]
  },
  {
   "cell_type": "code",
   "execution_count": 219,
   "metadata": {},
   "outputs": [
    {
     "data": {
      "text/plain": [
       "Rejkjavik Open 2018                   23439\n",
       "Candidates 2011-2018                   5916\n",
       "Wijk An Zee (Tata Steel) 2012-2018     5193\n",
       "Supertournaments 2017                  4461\n",
       "World Championships 1886-2014           543\n",
       "Name: db_name, dtype: int64"
      ]
     },
     "execution_count": 219,
     "metadata": {},
     "output_type": "execute_result"
    }
   ],
   "source": [
    "df.db_name.value_counts()"
   ]
  },
  {
   "cell_type": "code",
   "execution_count": 220,
   "metadata": {},
   "outputs": [],
   "source": [
    "df['difference'] = df.rating_own - df.rating_opponent \n",
    "df['result'] = df.win + 0.5 * df.draw"
   ]
  },
  {
   "cell_type": "markdown",
   "metadata": {},
   "source": [
    "### Standard deviation of rating difference\n",
    "The standard deviation is much smaller in elite tournaments than in opens:"
   ]
  },
  {
   "cell_type": "code",
   "execution_count": 221,
   "metadata": {},
   "outputs": [
    {
     "data": {
      "text/plain": [
       "db_name\n",
       "Candidates 2011-2018                   35.01\n",
       "Rejkjavik Open 2018                   321.80\n",
       "Supertournaments 2017                  61.70\n",
       "Wijk An Zee (Tata Steel) 2012-2018     87.20\n",
       "World Championships 1886-2014          82.67\n",
       "Name: difference, dtype: float64"
      ]
     },
     "execution_count": 221,
     "metadata": {},
     "output_type": "execute_result"
    }
   ],
   "source": [
    "df.groupby('db_name').difference.std()"
   ]
  },
  {
   "cell_type": "markdown",
   "metadata": {},
   "source": [
    "## Data cleaning"
   ]
  },
  {
   "cell_type": "markdown",
   "metadata": {},
   "source": [
    "Creating a grouped variable for the rating difference"
   ]
  },
  {
   "cell_type": "code",
   "execution_count": 222,
   "metadata": {},
   "outputs": [],
   "source": [
    "df['difference_group'] = round(df.difference / 200)\n",
    "diff_max = 3\n",
    "df.loc[df.difference_group < -diff_max, 'difference_group'] = -diff_max\n",
    "df.loc[df.difference_group > diff_max, 'difference_group'] = diff_max\n",
    "\n",
    "df['eval_group'] = round(df.ev / 100)"
   ]
  },
  {
   "cell_type": "markdown",
   "metadata": {},
   "source": [
    "# Summarizing the data"
   ]
  },
  {
   "cell_type": "code",
   "execution_count": 223,
   "metadata": {},
   "outputs": [],
   "source": [
    "df_rejkjavik = df.query('db_name == \"Rejkjavik Open 2018\"')"
   ]
  },
  {
   "cell_type": "code",
   "execution_count": 224,
   "metadata": {},
   "outputs": [],
   "source": [
    "means = pd.DataFrame(\n",
    "     df_rejkjavik\n",
    "    .query('-3 <= eval_group <= 3')\n",
    "    .groupby(['difference_group', 'eval_group'])\n",
    "    .result\n",
    "    .mean()\n",
    ")\n",
    "counts = (df_rejkjavik\n",
    "  .query('-3 <= eval_group <= 3')\n",
    "  .groupby(['difference_group', 'eval_group'])\n",
    "  .result\n",
    "  .count())\n",
    "\n",
    "means['counts'] = counts  \n",
    "means = means.query('counts >= 10 and difference_group >= 0')\n",
    "del means['counts']"
   ]
  },
  {
   "cell_type": "code",
   "execution_count": 225,
   "metadata": {},
   "outputs": [],
   "source": [
    "table = means.unstack(0)   \n",
    "table.index = [int(v) for v in table.index]\n",
    "def group_name(v):\n",
    "    return '%s to %s' % (v*200-100, v*200+100)\n",
    "table.columns = [group_name(v) for v in table.columns.get_level_values(1)]"
   ]
  },
  {
   "cell_type": "code",
   "execution_count": 249,
   "metadata": {},
   "outputs": [
    {
     "data": {
      "text/plain": [
       "<matplotlib.axes._subplots.AxesSubplot at 0x111a57048>"
      ]
     },
     "execution_count": 249,
     "metadata": {},
     "output_type": "execute_result"
    },
    {
     "data": {
      "image/png": "[encoded data removed]",
      "text/plain": [
       "<Figure size 720x720 with 1 Axes>"
      ]
     },
     "metadata": {},
     "output_type": "display_data"
    }
   ],
   "source": [
    "fig, ax = plt.subplots()\n",
    "ax.set_xlabel(\"Evaluation\", fontsize=20)\n",
    "ax.set_ylabel(\"Result percentage\", fontsize=20)\n",
    "settings = {\n",
    "    'title': \"Result percentage as function of evaluation and rating difference\",\n",
    "    'fontsize': 20,\n",
    "    'legend': True,\n",
    "    'figsize': (10, 10),\n",
    "    'lw': 4,\n",
    "    'ax': ax\n",
    "}\n",
    "table.plot(**settings)"
   ]
  },
  {
   "cell_type": "markdown",
   "metadata": {},
   "source": [
    "The graph shows the expected result percentage as a function of the position evaluation and the rating difference to the opponent.\n",
    "\n",
    "For instance, we find that, if you play against someone who is 400 points lower-rated then you and your evaluation is -3, then you are still obtaining more than 50% of the points.\n",
    "\n",
    "Note, however, that this is just one point on this graph. To quantify this by summarizing all the data, we work with a linear regression, below. "
   ]
  },
  {
   "cell_type": "markdown",
   "metadata": {},
   "source": [
    "The same data in table format"
   ]
  },
  {
   "cell_type": "code",
   "execution_count": 227,
   "metadata": {},
   "outputs": [
    {
     "data": {
      "text/html": [
       "<div>\n",
       "<style scoped>\n",
       "    .dataframe tbody tr th:only-of-type {\n",
       "        vertical-align: middle;\n",
       "    }\n",
       "\n",
       "    .dataframe tbody tr th {\n",
       "        vertical-align: top;\n",
       "    }\n",
       "\n",
       "    .dataframe thead th {\n",
       "        text-align: right;\n",
       "    }\n",
       "</style>\n",
       "<table border=\"1\" class=\"dataframe\">\n",
       "  <thead>\n",
       "    <tr style=\"text-align: right;\">\n",
       "      <th></th>\n",
       "      <th>-100.0 to 100.0</th>\n",
       "      <th>100.0 to 300.0</th>\n",
       "      <th>300.0 to 500.0</th>\n",
       "      <th>500.0 to 700.0</th>\n",
       "    </tr>\n",
       "  </thead>\n",
       "  <tbody>\n",
       "    <tr>\n",
       "      <th>-3</th>\n",
       "      <td>NaN</td>\n",
       "      <td>0.19</td>\n",
       "      <td>0.54</td>\n",
       "      <td>NaN</td>\n",
       "    </tr>\n",
       "    <tr>\n",
       "      <th>-2</th>\n",
       "      <td>NaN</td>\n",
       "      <td>0.30</td>\n",
       "      <td>0.41</td>\n",
       "      <td>0.52</td>\n",
       "    </tr>\n",
       "    <tr>\n",
       "      <th>-1</th>\n",
       "      <td>0.24</td>\n",
       "      <td>0.51</td>\n",
       "      <td>0.61</td>\n",
       "      <td>0.74</td>\n",
       "    </tr>\n",
       "    <tr>\n",
       "      <th>0</th>\n",
       "      <td>0.45</td>\n",
       "      <td>0.69</td>\n",
       "      <td>0.81</td>\n",
       "      <td>0.79</td>\n",
       "    </tr>\n",
       "    <tr>\n",
       "      <th>1</th>\n",
       "      <td>0.76</td>\n",
       "      <td>0.82</td>\n",
       "      <td>0.93</td>\n",
       "      <td>0.93</td>\n",
       "    </tr>\n",
       "    <tr>\n",
       "      <th>2</th>\n",
       "      <td>0.87</td>\n",
       "      <td>0.91</td>\n",
       "      <td>0.97</td>\n",
       "      <td>0.96</td>\n",
       "    </tr>\n",
       "    <tr>\n",
       "      <th>3</th>\n",
       "      <td>1.00</td>\n",
       "      <td>0.97</td>\n",
       "      <td>0.96</td>\n",
       "      <td>0.99</td>\n",
       "    </tr>\n",
       "  </tbody>\n",
       "</table>\n",
       "</div>"
      ],
      "text/plain": [
       "    -100.0 to 100.0  100.0 to 300.0  300.0 to 500.0  500.0 to 700.0\n",
       "-3              NaN            0.19            0.54             NaN\n",
       "-2              NaN            0.30            0.41            0.52\n",
       "-1             0.24            0.51            0.61            0.74\n",
       " 0             0.45            0.69            0.81            0.79\n",
       " 1             0.76            0.82            0.93            0.93\n",
       " 2             0.87            0.91            0.97            0.96\n",
       " 3             1.00            0.97            0.96            0.99"
      ]
     },
     "execution_count": 227,
     "metadata": {},
     "output_type": "execute_result"
    }
   ],
   "source": [
    "table"
   ]
  },
  {
   "cell_type": "markdown",
   "metadata": {},
   "source": [
    "## Quantifying the rating-evaluation tradeoff\n",
    "We know try to quantify these effects and calculate the tradeoff between player rating and the position evaluation. We do this using a linear regression."
   ]
  },
  {
   "cell_type": "markdown",
   "metadata": {},
   "source": [
    "Creating helper variables that are scaled, which gives us nicer regression coefficients."
   ]
  },
  {
   "cell_type": "code",
   "execution_count": 228,
   "metadata": {},
   "outputs": [],
   "source": [
    "df['rating_own_small'] = df.rating_own / 100\n",
    "df['rating_opponent_small'] = df.rating_opponent / 100\n",
    "df['diff_small'] = df.difference / 100\n",
    "df['eval_small'] = df.ev / 100"
   ]
  },
  {
   "cell_type": "code",
   "execution_count": 229,
   "metadata": {},
   "outputs": [],
   "source": [
    "df_rejkjavik = df.query('db_name == \"Rejkjavik Open 2018\"')"
   ]
  },
  {
   "cell_type": "code",
   "execution_count": 230,
   "metadata": {},
   "outputs": [
    {
     "data": {
      "text/html": [
       "<table class=\"simpletable\">\n",
       "<caption>OLS Regression Results</caption>\n",
       "<tr>\n",
       "  <th>Dep. Variable:</th>         <td>result</td>      <th>  R-squared:         </th> <td>   0.476</td> \n",
       "</tr>\n",
       "<tr>\n",
       "  <th>Model:</th>                   <td>OLS</td>       <th>  Adj. R-squared:    </th> <td>   0.476</td> \n",
       "</tr>\n",
       "<tr>\n",
       "  <th>Method:</th>             <td>Least Squares</td>  <th>  F-statistic:       </th> <td>1.012e+04</td>\n",
       "</tr>\n",
       "<tr>\n",
       "  <th>Date:</th>             <td>Wed, 11 Jul 2018</td> <th>  Prob (F-statistic):</th>  <td>  0.00</td>  \n",
       "</tr>\n",
       "<tr>\n",
       "  <th>Time:</th>                 <td>10:02:59</td>     <th>  Log-Likelihood:    </th> <td> -5863.9</td> \n",
       "</tr>\n",
       "<tr>\n",
       "  <th>No. Observations:</th>      <td> 22262</td>      <th>  AIC:               </th> <td>1.173e+04</td>\n",
       "</tr>\n",
       "<tr>\n",
       "  <th>Df Residuals:</th>          <td> 22259</td>      <th>  BIC:               </th> <td>1.176e+04</td>\n",
       "</tr>\n",
       "<tr>\n",
       "  <th>Df Model:</th>              <td>     2</td>      <th>                     </th>     <td> </td>    \n",
       "</tr>\n",
       "<tr>\n",
       "  <th>Covariance Type:</th>      <td>nonrobust</td>    <th>                     </th>     <td> </td>    \n",
       "</tr>\n",
       "</table>\n",
       "<table class=\"simpletable\">\n",
       "<tr>\n",
       "       <td></td>         <th>coef</th>     <th>std err</th>      <th>t</th>      <th>P>|t|</th>  <th>[0.025</th>    <th>0.975]</th>  \n",
       "</tr>\n",
       "<tr>\n",
       "  <th>Intercept</th>  <td>    0.5085</td> <td>    0.002</td> <td>  240.728</td> <td> 0.000</td> <td>    0.504</td> <td>    0.513</td>\n",
       "</tr>\n",
       "<tr>\n",
       "  <th>eval_small</th> <td>    0.0962</td> <td>    0.002</td> <td>   61.537</td> <td> 0.000</td> <td>    0.093</td> <td>    0.099</td>\n",
       "</tr>\n",
       "<tr>\n",
       "  <th>diff_small</th> <td>    0.0679</td> <td>    0.001</td> <td>   94.528</td> <td> 0.000</td> <td>    0.066</td> <td>    0.069</td>\n",
       "</tr>\n",
       "</table>\n",
       "<table class=\"simpletable\">\n",
       "<tr>\n",
       "  <th>Omnibus:</th>       <td> 3.146</td> <th>  Durbin-Watson:     </th> <td>   0.103</td>\n",
       "</tr>\n",
       "<tr>\n",
       "  <th>Prob(Omnibus):</th> <td> 0.207</td> <th>  Jarque-Bera (JB):  </th> <td>   3.154</td>\n",
       "</tr>\n",
       "<tr>\n",
       "  <th>Skew:</th>          <td> 0.023</td> <th>  Prob(JB):          </th> <td>   0.207</td>\n",
       "</tr>\n",
       "<tr>\n",
       "  <th>Kurtosis:</th>      <td> 2.964</td> <th>  Cond. No.          </th> <td>    3.25</td>\n",
       "</tr>\n",
       "</table>"
      ],
      "text/plain": [
       "<class 'statsmodels.iolib.summary.Summary'>\n",
       "\"\"\"\n",
       "                            OLS Regression Results                            \n",
       "==============================================================================\n",
       "Dep. Variable:                 result   R-squared:                       0.476\n",
       "Model:                            OLS   Adj. R-squared:                  0.476\n",
       "Method:                 Least Squares   F-statistic:                 1.012e+04\n",
       "Date:                Wed, 11 Jul 2018   Prob (F-statistic):               0.00\n",
       "Time:                        10:02:59   Log-Likelihood:                -5863.9\n",
       "No. Observations:               22262   AIC:                         1.173e+04\n",
       "Df Residuals:                   22259   BIC:                         1.176e+04\n",
       "Df Model:                           2                                         \n",
       "Covariance Type:            nonrobust                                         \n",
       "==============================================================================\n",
       "                 coef    std err          t      P>|t|      [0.025      0.975]\n",
       "------------------------------------------------------------------------------\n",
       "Intercept      0.5085      0.002    240.728      0.000       0.504       0.513\n",
       "eval_small     0.0962      0.002     61.537      0.000       0.093       0.099\n",
       "diff_small     0.0679      0.001     94.528      0.000       0.066       0.069\n",
       "==============================================================================\n",
       "Omnibus:                        3.146   Durbin-Watson:                   0.103\n",
       "Prob(Omnibus):                  0.207   Jarque-Bera (JB):                3.154\n",
       "Skew:                           0.023   Prob(JB):                        0.207\n",
       "Kurtosis:                       2.964   Cond. No.                         3.25\n",
       "==============================================================================\n",
       "\n",
       "Warnings:\n",
       "[1] Standard Errors assume that the covariance matrix of the errors is correctly specified.\n",
       "\"\"\""
      ]
     },
     "execution_count": 230,
     "metadata": {},
     "output_type": "execute_result"
    }
   ],
   "source": [
    "reg = smf.ols('result ~ eval_small + diff_small', data=df_rejkjavik.query('-5 <= eval_small <= 5')).fit()\n",
    "params = reg.params\n",
    "reg.summary()"
   ]
  },
  {
   "cell_type": "markdown",
   "metadata": {},
   "source": [
    "To check for a non-linear effect, I include a squared term in the regression. The coefficient is very small and not even statistically significant, which suggests that the non-linear effect is relatively small."
   ]
  },
  {
   "cell_type": "code",
   "execution_count": 251,
   "metadata": {},
   "outputs": [
    {
     "data": {
      "text/html": [
       "<table class=\"simpletable\">\n",
       "<caption>OLS Regression Results</caption>\n",
       "<tr>\n",
       "  <th>Dep. Variable:</th>         <td>result</td>      <th>  R-squared:         </th> <td>   0.476</td> \n",
       "</tr>\n",
       "<tr>\n",
       "  <th>Model:</th>                   <td>OLS</td>       <th>  Adj. R-squared:    </th> <td>   0.476</td> \n",
       "</tr>\n",
       "<tr>\n",
       "  <th>Method:</th>             <td>Least Squares</td>  <th>  F-statistic:       </th> <td>   6749.</td> \n",
       "</tr>\n",
       "<tr>\n",
       "  <th>Date:</th>             <td>Wed, 11 Jul 2018</td> <th>  Prob (F-statistic):</th>  <td>  0.00</td>  \n",
       "</tr>\n",
       "<tr>\n",
       "  <th>Time:</th>                 <td>10:15:09</td>     <th>  Log-Likelihood:    </th> <td> -5863.5</td> \n",
       "</tr>\n",
       "<tr>\n",
       "  <th>No. Observations:</th>      <td> 22262</td>      <th>  AIC:               </th> <td>1.173e+04</td>\n",
       "</tr>\n",
       "<tr>\n",
       "  <th>Df Residuals:</th>          <td> 22258</td>      <th>  BIC:               </th> <td>1.177e+04</td>\n",
       "</tr>\n",
       "<tr>\n",
       "  <th>Df Model:</th>              <td>     3</td>      <th>                     </th>     <td> </td>    \n",
       "</tr>\n",
       "<tr>\n",
       "  <th>Covariance Type:</th>      <td>nonrobust</td>    <th>                     </th>     <td> </td>    \n",
       "</tr>\n",
       "</table>\n",
       "<table class=\"simpletable\">\n",
       "<tr>\n",
       "               <td></td>                 <th>coef</th>     <th>std err</th>      <th>t</th>      <th>P>|t|</th>  <th>[0.025</th>    <th>0.975]</th>  \n",
       "</tr>\n",
       "<tr>\n",
       "  <th>Intercept</th>                  <td>    0.5075</td> <td>    0.002</td> <td>  213.670</td> <td> 0.000</td> <td>    0.503</td> <td>    0.512</td>\n",
       "</tr>\n",
       "<tr>\n",
       "  <th>eval_small</th>                 <td>    0.0962</td> <td>    0.002</td> <td>   61.527</td> <td> 0.000</td> <td>    0.093</td> <td>    0.099</td>\n",
       "</tr>\n",
       "<tr>\n",
       "  <th>I(eval_small * eval_small)</th> <td>    0.0005</td> <td>    0.001</td> <td>    0.926</td> <td> 0.355</td> <td>   -0.001</td> <td>    0.001</td>\n",
       "</tr>\n",
       "<tr>\n",
       "  <th>diff_small</th>                 <td>    0.0679</td> <td>    0.001</td> <td>   94.505</td> <td> 0.000</td> <td>    0.066</td> <td>    0.069</td>\n",
       "</tr>\n",
       "</table>\n",
       "<table class=\"simpletable\">\n",
       "<tr>\n",
       "  <th>Omnibus:</th>       <td> 3.880</td> <th>  Durbin-Watson:     </th> <td>   0.103</td>\n",
       "</tr>\n",
       "<tr>\n",
       "  <th>Prob(Omnibus):</th> <td> 0.144</td> <th>  Jarque-Bera (JB):  </th> <td>   3.880</td>\n",
       "</tr>\n",
       "<tr>\n",
       "  <th>Skew:</th>          <td> 0.026</td> <th>  Prob(JB):          </th> <td>   0.144</td>\n",
       "</tr>\n",
       "<tr>\n",
       "  <th>Kurtosis:</th>      <td> 2.961</td> <th>  Cond. No.          </th> <td>    5.33</td>\n",
       "</tr>\n",
       "</table>"
      ],
      "text/plain": [
       "<class 'statsmodels.iolib.summary.Summary'>\n",
       "\"\"\"\n",
       "                            OLS Regression Results                            \n",
       "==============================================================================\n",
       "Dep. Variable:                 result   R-squared:                       0.476\n",
       "Model:                            OLS   Adj. R-squared:                  0.476\n",
       "Method:                 Least Squares   F-statistic:                     6749.\n",
       "Date:                Wed, 11 Jul 2018   Prob (F-statistic):               0.00\n",
       "Time:                        10:15:09   Log-Likelihood:                -5863.5\n",
       "No. Observations:               22262   AIC:                         1.173e+04\n",
       "Df Residuals:                   22258   BIC:                         1.177e+04\n",
       "Df Model:                           3                                         \n",
       "Covariance Type:            nonrobust                                         \n",
       "==============================================================================================\n",
       "                                 coef    std err          t      P>|t|      [0.025      0.975]\n",
       "----------------------------------------------------------------------------------------------\n",
       "Intercept                      0.5075      0.002    213.670      0.000       0.503       0.512\n",
       "eval_small                     0.0962      0.002     61.527      0.000       0.093       0.099\n",
       "I(eval_small * eval_small)     0.0005      0.001      0.926      0.355      -0.001       0.001\n",
       "diff_small                     0.0679      0.001     94.505      0.000       0.066       0.069\n",
       "==============================================================================\n",
       "Omnibus:                        3.880   Durbin-Watson:                   0.103\n",
       "Prob(Omnibus):                  0.144   Jarque-Bera (JB):                3.880\n",
       "Skew:                           0.026   Prob(JB):                        0.144\n",
       "Kurtosis:                       2.961   Cond. No.                         5.33\n",
       "==============================================================================\n",
       "\n",
       "Warnings:\n",
       "[1] Standard Errors assume that the covariance matrix of the errors is correctly specified.\n",
       "\"\"\""
      ]
     },
     "execution_count": 251,
     "metadata": {},
     "output_type": "execute_result"
    }
   ],
   "source": [
    "reg = smf.ols('result ~ eval_small + I(eval_small*eval_small) + diff_small', data=df_rejkjavik.query('-5 <= eval_small <= 5')).fit()\n",
    "params = reg.params\n",
    "reg.summary()"
   ]
  },
  {
   "cell_type": "code",
   "execution_count": 231,
   "metadata": {},
   "outputs": [
    {
     "name": "stdout",
     "output_type": "stream",
     "text": [
      "Value of 100 rating points: 0.71\n"
     ]
    }
   ],
   "source": [
    "value_of_100_rating = params['diff_small'] / params['eval_small']\n",
    "print(\"Value of 100 rating points: %0.2f\" % value_of_100_rating)"
   ]
  },
  {
   "cell_type": "code",
   "execution_count": 232,
   "metadata": {},
   "outputs": [],
   "source": [
    "df_value = pd.DataFrame()\n",
    "df_value['rating_difference'] = np.arange(0, 400, 100)\n",
    "df_value['evaluation'] = -(df_value.rating_difference * value_of_100_rating)/100"
   ]
  },
  {
   "cell_type": "markdown",
   "metadata": {},
   "source": [
    "### Required evaluation to get result of 50% against a player\n",
    "Note that this is a linear interpolation from the linear regression, this is not directly from the raw data."
   ]
  },
  {
   "cell_type": "code",
   "execution_count": 233,
   "metadata": {},
   "outputs": [
    {
     "data": {
      "text/html": [
       "<div>\n",
       "<style scoped>\n",
       "    .dataframe tbody tr th:only-of-type {\n",
       "        vertical-align: middle;\n",
       "    }\n",
       "\n",
       "    .dataframe tbody tr th {\n",
       "        vertical-align: top;\n",
       "    }\n",
       "\n",
       "    .dataframe thead th {\n",
       "        text-align: right;\n",
       "    }\n",
       "</style>\n",
       "<table border=\"1\" class=\"dataframe\">\n",
       "  <thead>\n",
       "    <tr style=\"text-align: right;\">\n",
       "      <th></th>\n",
       "      <th>evaluation</th>\n",
       "    </tr>\n",
       "    <tr>\n",
       "      <th>rating_difference</th>\n",
       "      <th></th>\n",
       "    </tr>\n",
       "  </thead>\n",
       "  <tbody>\n",
       "    <tr>\n",
       "      <th>0</th>\n",
       "      <td>-0.00</td>\n",
       "    </tr>\n",
       "    <tr>\n",
       "      <th>100</th>\n",
       "      <td>-0.71</td>\n",
       "    </tr>\n",
       "    <tr>\n",
       "      <th>200</th>\n",
       "      <td>-1.41</td>\n",
       "    </tr>\n",
       "    <tr>\n",
       "      <th>300</th>\n",
       "      <td>-2.12</td>\n",
       "    </tr>\n",
       "  </tbody>\n",
       "</table>\n",
       "</div>"
      ],
      "text/plain": [
       "                   evaluation\n",
       "rating_difference            \n",
       "0                       -0.00\n",
       "100                     -0.71\n",
       "200                     -1.41\n",
       "300                     -2.12"
      ]
     },
     "execution_count": 233,
     "metadata": {},
     "output_type": "execute_result"
    }
   ],
   "source": [
    "df_value.set_index('rating_difference')"
   ]
  },
  {
   "cell_type": "markdown",
   "metadata": {},
   "source": [
    "# Comparison to super-tournaments"
   ]
  },
  {
   "cell_type": "code",
   "execution_count": 234,
   "metadata": {},
   "outputs": [
    {
     "data": {
      "text/html": [
       "<table class=\"simpletable\">\n",
       "<caption>OLS Regression Results</caption>\n",
       "<tr>\n",
       "  <th>Dep. Variable:</th>         <td>result</td>      <th>  R-squared:         </th> <td>   0.476</td> \n",
       "</tr>\n",
       "<tr>\n",
       "  <th>Model:</th>                   <td>OLS</td>       <th>  Adj. R-squared:    </th> <td>   0.476</td> \n",
       "</tr>\n",
       "<tr>\n",
       "  <th>Method:</th>             <td>Least Squares</td>  <th>  F-statistic:       </th> <td>1.012e+04</td>\n",
       "</tr>\n",
       "<tr>\n",
       "  <th>Date:</th>             <td>Wed, 11 Jul 2018</td> <th>  Prob (F-statistic):</th>  <td>  0.00</td>  \n",
       "</tr>\n",
       "<tr>\n",
       "  <th>Time:</th>                 <td>10:03:02</td>     <th>  Log-Likelihood:    </th> <td> -5863.9</td> \n",
       "</tr>\n",
       "<tr>\n",
       "  <th>No. Observations:</th>      <td> 22262</td>      <th>  AIC:               </th> <td>1.173e+04</td>\n",
       "</tr>\n",
       "<tr>\n",
       "  <th>Df Residuals:</th>          <td> 22259</td>      <th>  BIC:               </th> <td>1.176e+04</td>\n",
       "</tr>\n",
       "<tr>\n",
       "  <th>Df Model:</th>              <td>     2</td>      <th>                     </th>     <td> </td>    \n",
       "</tr>\n",
       "<tr>\n",
       "  <th>Covariance Type:</th>      <td>nonrobust</td>    <th>                     </th>     <td> </td>    \n",
       "</tr>\n",
       "</table>\n",
       "<table class=\"simpletable\">\n",
       "<tr>\n",
       "       <td></td>         <th>coef</th>     <th>std err</th>      <th>t</th>      <th>P>|t|</th>  <th>[0.025</th>    <th>0.975]</th>  \n",
       "</tr>\n",
       "<tr>\n",
       "  <th>Intercept</th>  <td>    0.5085</td> <td>    0.002</td> <td>  240.728</td> <td> 0.000</td> <td>    0.504</td> <td>    0.513</td>\n",
       "</tr>\n",
       "<tr>\n",
       "  <th>eval_small</th> <td>    0.0962</td> <td>    0.002</td> <td>   61.537</td> <td> 0.000</td> <td>    0.093</td> <td>    0.099</td>\n",
       "</tr>\n",
       "<tr>\n",
       "  <th>diff_small</th> <td>    0.0679</td> <td>    0.001</td> <td>   94.528</td> <td> 0.000</td> <td>    0.066</td> <td>    0.069</td>\n",
       "</tr>\n",
       "</table>\n",
       "<table class=\"simpletable\">\n",
       "<tr>\n",
       "  <th>Omnibus:</th>       <td> 3.146</td> <th>  Durbin-Watson:     </th> <td>   0.103</td>\n",
       "</tr>\n",
       "<tr>\n",
       "  <th>Prob(Omnibus):</th> <td> 0.207</td> <th>  Jarque-Bera (JB):  </th> <td>   3.154</td>\n",
       "</tr>\n",
       "<tr>\n",
       "  <th>Skew:</th>          <td> 0.023</td> <th>  Prob(JB):          </th> <td>   0.207</td>\n",
       "</tr>\n",
       "<tr>\n",
       "  <th>Kurtosis:</th>      <td> 2.964</td> <th>  Cond. No.          </th> <td>    3.25</td>\n",
       "</tr>\n",
       "</table>"
      ],
      "text/plain": [
       "<class 'statsmodels.iolib.summary.Summary'>\n",
       "\"\"\"\n",
       "                            OLS Regression Results                            \n",
       "==============================================================================\n",
       "Dep. Variable:                 result   R-squared:                       0.476\n",
       "Model:                            OLS   Adj. R-squared:                  0.476\n",
       "Method:                 Least Squares   F-statistic:                 1.012e+04\n",
       "Date:                Wed, 11 Jul 2018   Prob (F-statistic):               0.00\n",
       "Time:                        10:03:02   Log-Likelihood:                -5863.9\n",
       "No. Observations:               22262   AIC:                         1.173e+04\n",
       "Df Residuals:                   22259   BIC:                         1.176e+04\n",
       "Df Model:                           2                                         \n",
       "Covariance Type:            nonrobust                                         \n",
       "==============================================================================\n",
       "                 coef    std err          t      P>|t|      [0.025      0.975]\n",
       "------------------------------------------------------------------------------\n",
       "Intercept      0.5085      0.002    240.728      0.000       0.504       0.513\n",
       "eval_small     0.0962      0.002     61.537      0.000       0.093       0.099\n",
       "diff_small     0.0679      0.001     94.528      0.000       0.066       0.069\n",
       "==============================================================================\n",
       "Omnibus:                        3.146   Durbin-Watson:                   0.103\n",
       "Prob(Omnibus):                  0.207   Jarque-Bera (JB):                3.154\n",
       "Skew:                           0.023   Prob(JB):                        0.207\n",
       "Kurtosis:                       2.964   Cond. No.                         3.25\n",
       "==============================================================================\n",
       "\n",
       "Warnings:\n",
       "[1] Standard Errors assume that the covariance matrix of the errors is correctly specified.\n",
       "\"\"\""
      ]
     },
     "execution_count": 234,
     "metadata": {},
     "output_type": "execute_result"
    }
   ],
   "source": [
    "df_super = df.query('db_name == \"Supertournaments 2017\"')\n",
    "reg_super = smf.ols('result ~ eval_small + diff_small', data=df_super.query('-5 <= eval_small <= 5')).fit()\n",
    "params_super = reg_super.params\n",
    "reg.summary()"
   ]
  },
  {
   "cell_type": "code",
   "execution_count": 235,
   "metadata": {},
   "outputs": [
    {
     "name": "stdout",
     "output_type": "stream",
     "text": [
      "Value of 100 rating points: 0.59\n"
     ]
    }
   ],
   "source": [
    "value_of_100_rating = params_super['diff_small'] / params_super['eval_small']\n",
    "print(\"Value of 100 rating points: %0.2f\" % value_of_100_rating)"
   ]
  },
  {
   "cell_type": "markdown",
   "metadata": {},
   "source": [
    "We find that, for elite players, the impact of rating on the result percentage is only a little smaller (0.6 vs 0.7) compared to amateur players at a big open."
   ]
  },
  {
   "cell_type": "code",
   "execution_count": null,
   "metadata": {},
   "outputs": [],
   "source": []
  }
 ],
 "metadata": {
  "kernelspec": {
   "display_name": "Python 3",
   "language": "python",
   "name": "python3"
  },
  "language_info": {
   "codemirror_mode": {
    "name": "ipython",
    "version": 3
   },
   "file_extension": ".py",
   "mimetype": "text/x-python",
   "name": "python",
   "nbconvert_exporter": "python",
   "pygments_lexer": "ipython3",
   "version": "3.6.5"
  }
 },
 "nbformat": 4,
 "nbformat_minor": 2
}
